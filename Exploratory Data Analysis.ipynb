{
 "cells": [
  {
   "cell_type": "markdown",
   "metadata": {},
   "source": [
    "# Exploratory Data Analysis \n",
    "Data set: NORS. Through NORS, CDC collects reports of enteric disease outbreaks caused by bacterial, viral, parasitic, chemical, toxin, and unknown agents, as well as foodborne and waterborne outbreaks of non-enteric disease.\n",
    "\n",
    "About Data Set Variables: \n",
    "Foodborne outbreak data are provided for 1998–2017. For all other types of outbreaks, data are provided for 2009–2017.\n",
    "Primary Mode: Way the disease was transmitted\n",
    "Etiology: the cause of the outbreak. NORS Dashboard lets you select genus or name among bacterial, viral, parasitic, chemical, and toxic agents. You may also select “unknown.”\n",
    "Sterotype or Genotype: \n",
    "Setting:\n",
    "Hospitalizations: The number of hospitalizations reported\n",
    "Info on Hospitalizations*: The number of ill people for whom information on hospitalization is available\n",
    "Deaths: The number of deaths reported\n",
    "Info on Deaths: The number of ill people for whom information on death is available"
   ]
  },
  {
   "cell_type": "code",
   "execution_count": 4,
   "metadata": {},
   "outputs": [],
   "source": [
    "import numpy as np\n",
    "import pandas as pd "
   ]
  },
  {
   "cell_type": "code",
   "execution_count": 5,
   "metadata": {
    "scrolled": true
   },
   "outputs": [
    {
     "name": "stdout",
     "output_type": "stream",
     "text": [
      "       Year  Month       State      Primary Mode  \\\n",
      "0      2009      1   Minnesota  Person-to-person   \n",
      "1      2009      1   Minnesota              Food   \n",
      "2      2009      2   Minnesota  Person-to-person   \n",
      "3      2009      1   Minnesota  Person-to-person   \n",
      "4      2009      1   Minnesota              Food   \n",
      "...     ...    ...         ...               ...   \n",
      "46019  2017      4     Florida              Food   \n",
      "46020  2017     12     Florida              Food   \n",
      "46021  2017     12  Multistate              Food   \n",
      "46022  2017      5     Florida              Food   \n",
      "46023  2014     11     Arizona              Food   \n",
      "\n",
      "                                       Etiology Serotype or Genotype  \\\n",
      "0                        Norovirus Genogroup II              unknown   \n",
      "1                                     Norovirus                  NaN   \n",
      "2                                     Norovirus                  NaN   \n",
      "3                             Norovirus unknown                  NaN   \n",
      "4                                     Norovirus                  NaN   \n",
      "...                                         ...                  ...   \n",
      "46019                    Norovirus Genogroup II                  NaN   \n",
      "46020                                       NaN                  NaN   \n",
      "46021  Salmonella enterica; Salmonella enterica   Montevideo; Cubana   \n",
      "46022                                       NaN                  NaN   \n",
      "46023    Bacillus cereus; Staphylococcus aureus                  NaN   \n",
      "\n",
      "            Etiology Status                       Setting  Illnesses  \\\n",
      "0                 Confirmed                   Hotel/motel         21   \n",
      "1                 Suspected  Restaurant - Sit-down dining          2   \n",
      "2                 Suspected                Other, specify         50   \n",
      "3                 Confirmed                    Restaurant         24   \n",
      "4                 Confirmed                           NaN         16   \n",
      "...                     ...                           ...        ...   \n",
      "46019             Confirmed  Restaurant - Sit-down dining         10   \n",
      "46020                   NaN  Restaurant - Sit-down dining          4   \n",
      "46021  Confirmed; Confirmed                       Unknown         62   \n",
      "46022                   NaN  Restaurant - Sit-down dining         10   \n",
      "46023  Suspected; Suspected                       Unknown         65   \n",
      "\n",
      "       Hospitalizations  ...  Deaths  Info on Deaths  \\\n",
      "0                   0.0  ...     0.0            19.0   \n",
      "1                   0.0  ...     0.0             2.0   \n",
      "2                   0.0  ...     0.0            50.0   \n",
      "3                   0.0  ...     0.0            24.0   \n",
      "4                   0.0  ...     0.0            16.0   \n",
      "...                 ...  ...     ...             ...   \n",
      "46019               0.0  ...     0.0            10.0   \n",
      "46020               0.0  ...     0.0             4.0   \n",
      "46021               3.0  ...     0.0            51.0   \n",
      "46022               0.0  ...     0.0            10.0   \n",
      "46023               1.0  ...     0.0            65.0   \n",
      "\n",
      "                                            Food Vehicle  \\\n",
      "0                                                    NaN   \n",
      "1                                                    NaN   \n",
      "2                                                    NaN   \n",
      "3                                                    NaN   \n",
      "4                                                    NaN   \n",
      "...                                                  ...   \n",
      "46019                                                NaN   \n",
      "46020                                                NaN   \n",
      "46021                                            sprouts   \n",
      "46022                                           fish dip   \n",
      "46023  meat chili; potato salad; beans, unspecified; ...   \n",
      "\n",
      "      Food Contaminated Ingredient IFSAC Category Water Exposure Water Type  \\\n",
      "0                              NaN            NaN            NaN        NaN   \n",
      "1                              NaN            NaN            NaN        NaN   \n",
      "2                              NaN            NaN            NaN        NaN   \n",
      "3                              NaN            NaN            NaN        NaN   \n",
      "4                              NaN            NaN            NaN        NaN   \n",
      "...                            ...            ...            ...        ...   \n",
      "46019                          NaN            NaN            NaN        NaN   \n",
      "46020                          NaN            NaN            NaN        NaN   \n",
      "46021                          NaN        Sprouts            NaN        NaN   \n",
      "46022                          NaN       Multiple            NaN        NaN   \n",
      "46023                          NaN       Multiple            NaN        NaN   \n",
      "\n",
      "      Animal Type Animal Type Specify Water Status  \n",
      "0             NaN                 NaN          NaN  \n",
      "1             NaN                 NaN          NaN  \n",
      "2             NaN                 NaN          NaN  \n",
      "3             NaN                 NaN          NaN  \n",
      "4             NaN                 NaN          NaN  \n",
      "...           ...                 ...          ...  \n",
      "46019         NaN                 NaN          NaN  \n",
      "46020         NaN                 NaN          NaN  \n",
      "46021         NaN                 NaN          NaN  \n",
      "46022         NaN                 NaN          NaN  \n",
      "46023         NaN                 NaN          NaN  \n",
      "\n",
      "[46024 rows x 21 columns]\n"
     ]
    }
   ],
   "source": [
    "# read in file as csv\n",
    "df = pd.read_csv(\"/Users/brookeathey/OneDrive - Texas State University/Spring 2020/Valkyrie Internship/NationalOutbreak_OutbreakData.csv\")\n",
    "print(df)"
   ]
  },
  {
   "cell_type": "code",
   "execution_count": 9,
   "metadata": {},
   "outputs": [
    {
     "data": {
      "text/html": [
       "<div>\n",
       "<style scoped>\n",
       "    .dataframe tbody tr th:only-of-type {\n",
       "        vertical-align: middle;\n",
       "    }\n",
       "\n",
       "    .dataframe tbody tr th {\n",
       "        vertical-align: top;\n",
       "    }\n",
       "\n",
       "    .dataframe thead th {\n",
       "        text-align: right;\n",
       "    }\n",
       "</style>\n",
       "<table border=\"1\" class=\"dataframe\">\n",
       "  <thead>\n",
       "    <tr style=\"text-align: right;\">\n",
       "      <th></th>\n",
       "      <th>Year</th>\n",
       "      <th>Month</th>\n",
       "      <th>State</th>\n",
       "      <th>Primary Mode</th>\n",
       "      <th>Etiology</th>\n",
       "      <th>Serotype or Genotype</th>\n",
       "      <th>Etiology Status</th>\n",
       "      <th>Setting</th>\n",
       "      <th>Illnesses</th>\n",
       "      <th>Hospitalizations</th>\n",
       "      <th>...</th>\n",
       "      <th>Deaths</th>\n",
       "      <th>Info on Deaths</th>\n",
       "      <th>Food Vehicle</th>\n",
       "      <th>Food Contaminated Ingredient</th>\n",
       "      <th>IFSAC Category</th>\n",
       "      <th>Water Exposure</th>\n",
       "      <th>Water Type</th>\n",
       "      <th>Animal Type</th>\n",
       "      <th>Animal Type Specify</th>\n",
       "      <th>Water Status</th>\n",
       "    </tr>\n",
       "  </thead>\n",
       "  <tbody>\n",
       "    <tr>\n",
       "      <td>46019</td>\n",
       "      <td>2017</td>\n",
       "      <td>4</td>\n",
       "      <td>Florida</td>\n",
       "      <td>Food</td>\n",
       "      <td>Norovirus Genogroup II</td>\n",
       "      <td>NaN</td>\n",
       "      <td>Confirmed</td>\n",
       "      <td>Restaurant - Sit-down dining</td>\n",
       "      <td>10</td>\n",
       "      <td>0.0</td>\n",
       "      <td>...</td>\n",
       "      <td>0.0</td>\n",
       "      <td>10.0</td>\n",
       "      <td>NaN</td>\n",
       "      <td>NaN</td>\n",
       "      <td>NaN</td>\n",
       "      <td>NaN</td>\n",
       "      <td>NaN</td>\n",
       "      <td>NaN</td>\n",
       "      <td>NaN</td>\n",
       "      <td>NaN</td>\n",
       "    </tr>\n",
       "    <tr>\n",
       "      <td>46020</td>\n",
       "      <td>2017</td>\n",
       "      <td>12</td>\n",
       "      <td>Florida</td>\n",
       "      <td>Food</td>\n",
       "      <td>NaN</td>\n",
       "      <td>NaN</td>\n",
       "      <td>NaN</td>\n",
       "      <td>Restaurant - Sit-down dining</td>\n",
       "      <td>4</td>\n",
       "      <td>0.0</td>\n",
       "      <td>...</td>\n",
       "      <td>0.0</td>\n",
       "      <td>4.0</td>\n",
       "      <td>NaN</td>\n",
       "      <td>NaN</td>\n",
       "      <td>NaN</td>\n",
       "      <td>NaN</td>\n",
       "      <td>NaN</td>\n",
       "      <td>NaN</td>\n",
       "      <td>NaN</td>\n",
       "      <td>NaN</td>\n",
       "    </tr>\n",
       "    <tr>\n",
       "      <td>46021</td>\n",
       "      <td>2017</td>\n",
       "      <td>12</td>\n",
       "      <td>Multistate</td>\n",
       "      <td>Food</td>\n",
       "      <td>Salmonella enterica; Salmonella enterica</td>\n",
       "      <td>Montevideo; Cubana</td>\n",
       "      <td>Confirmed; Confirmed</td>\n",
       "      <td>Unknown</td>\n",
       "      <td>62</td>\n",
       "      <td>3.0</td>\n",
       "      <td>...</td>\n",
       "      <td>0.0</td>\n",
       "      <td>51.0</td>\n",
       "      <td>sprouts</td>\n",
       "      <td>NaN</td>\n",
       "      <td>Sprouts</td>\n",
       "      <td>NaN</td>\n",
       "      <td>NaN</td>\n",
       "      <td>NaN</td>\n",
       "      <td>NaN</td>\n",
       "      <td>NaN</td>\n",
       "    </tr>\n",
       "    <tr>\n",
       "      <td>46022</td>\n",
       "      <td>2017</td>\n",
       "      <td>5</td>\n",
       "      <td>Florida</td>\n",
       "      <td>Food</td>\n",
       "      <td>NaN</td>\n",
       "      <td>NaN</td>\n",
       "      <td>NaN</td>\n",
       "      <td>Restaurant - Sit-down dining</td>\n",
       "      <td>10</td>\n",
       "      <td>0.0</td>\n",
       "      <td>...</td>\n",
       "      <td>0.0</td>\n",
       "      <td>10.0</td>\n",
       "      <td>fish dip</td>\n",
       "      <td>NaN</td>\n",
       "      <td>Multiple</td>\n",
       "      <td>NaN</td>\n",
       "      <td>NaN</td>\n",
       "      <td>NaN</td>\n",
       "      <td>NaN</td>\n",
       "      <td>NaN</td>\n",
       "    </tr>\n",
       "    <tr>\n",
       "      <td>46023</td>\n",
       "      <td>2014</td>\n",
       "      <td>11</td>\n",
       "      <td>Arizona</td>\n",
       "      <td>Food</td>\n",
       "      <td>Bacillus cereus; Staphylococcus aureus</td>\n",
       "      <td>NaN</td>\n",
       "      <td>Suspected; Suspected</td>\n",
       "      <td>Unknown</td>\n",
       "      <td>65</td>\n",
       "      <td>1.0</td>\n",
       "      <td>...</td>\n",
       "      <td>0.0</td>\n",
       "      <td>65.0</td>\n",
       "      <td>meat chili; potato salad; beans, unspecified; ...</td>\n",
       "      <td>NaN</td>\n",
       "      <td>Multiple</td>\n",
       "      <td>NaN</td>\n",
       "      <td>NaN</td>\n",
       "      <td>NaN</td>\n",
       "      <td>NaN</td>\n",
       "      <td>NaN</td>\n",
       "    </tr>\n",
       "  </tbody>\n",
       "</table>\n",
       "<p>5 rows × 21 columns</p>\n",
       "</div>"
      ],
      "text/plain": [
       "       Year  Month       State Primary Mode  \\\n",
       "46019  2017      4     Florida         Food   \n",
       "46020  2017     12     Florida         Food   \n",
       "46021  2017     12  Multistate         Food   \n",
       "46022  2017      5     Florida         Food   \n",
       "46023  2014     11     Arizona         Food   \n",
       "\n",
       "                                       Etiology Serotype or Genotype  \\\n",
       "46019                    Norovirus Genogroup II                  NaN   \n",
       "46020                                       NaN                  NaN   \n",
       "46021  Salmonella enterica; Salmonella enterica   Montevideo; Cubana   \n",
       "46022                                       NaN                  NaN   \n",
       "46023    Bacillus cereus; Staphylococcus aureus                  NaN   \n",
       "\n",
       "            Etiology Status                       Setting  Illnesses  \\\n",
       "46019             Confirmed  Restaurant - Sit-down dining         10   \n",
       "46020                   NaN  Restaurant - Sit-down dining          4   \n",
       "46021  Confirmed; Confirmed                       Unknown         62   \n",
       "46022                   NaN  Restaurant - Sit-down dining         10   \n",
       "46023  Suspected; Suspected                       Unknown         65   \n",
       "\n",
       "       Hospitalizations  ...  Deaths  Info on Deaths  \\\n",
       "46019               0.0  ...     0.0            10.0   \n",
       "46020               0.0  ...     0.0             4.0   \n",
       "46021               3.0  ...     0.0            51.0   \n",
       "46022               0.0  ...     0.0            10.0   \n",
       "46023               1.0  ...     0.0            65.0   \n",
       "\n",
       "                                            Food Vehicle  \\\n",
       "46019                                                NaN   \n",
       "46020                                                NaN   \n",
       "46021                                            sprouts   \n",
       "46022                                           fish dip   \n",
       "46023  meat chili; potato salad; beans, unspecified; ...   \n",
       "\n",
       "      Food Contaminated Ingredient IFSAC Category Water Exposure Water Type  \\\n",
       "46019                          NaN            NaN            NaN        NaN   \n",
       "46020                          NaN            NaN            NaN        NaN   \n",
       "46021                          NaN        Sprouts            NaN        NaN   \n",
       "46022                          NaN       Multiple            NaN        NaN   \n",
       "46023                          NaN       Multiple            NaN        NaN   \n",
       "\n",
       "      Animal Type Animal Type Specify Water Status  \n",
       "46019         NaN                 NaN          NaN  \n",
       "46020         NaN                 NaN          NaN  \n",
       "46021         NaN                 NaN          NaN  \n",
       "46022         NaN                 NaN          NaN  \n",
       "46023         NaN                 NaN          NaN  \n",
       "\n",
       "[5 rows x 21 columns]"
      ]
     },
     "execution_count": 9,
     "metadata": {},
     "output_type": "execute_result"
    }
   ],
   "source": [
    "#Exploratary Data Analysis Begins \\\n",
    "\n",
    "df.head(5) # prints first 5 rows of data \n",
    "\n",
    "df.tail(5) #prints last 5 rows of data."
   ]
  },
  {
   "cell_type": "code",
   "execution_count": 10,
   "metadata": {},
   "outputs": [
    {
     "data": {
      "text/plain": [
       "Year                              int64\n",
       "Month                             int64\n",
       "State                            object\n",
       "Primary Mode                     object\n",
       "Etiology                         object\n",
       "Serotype or Genotype             object\n",
       "Etiology Status                  object\n",
       "Setting                          object\n",
       "Illnesses                         int64\n",
       "Hospitalizations                float64\n",
       "Info on Hospitalizations        float64\n",
       "Deaths                          float64\n",
       "Info on Deaths                  float64\n",
       "Food Vehicle                     object\n",
       "Food Contaminated Ingredient     object\n",
       "IFSAC Category                   object\n",
       "Water Exposure                   object\n",
       "Water Type                       object\n",
       "Animal Type                      object\n",
       "Animal Type Specify              object\n",
       "Water Status                     object\n",
       "dtype: object"
      ]
     },
     "execution_count": 10,
     "metadata": {},
     "output_type": "execute_result"
    }
   ],
   "source": [
    "#Checking Data Types and shape\n",
    "df.dtypes"
   ]
  },
  {
   "cell_type": "code",
   "execution_count": 11,
   "metadata": {},
   "outputs": [
    {
     "data": {
      "text/plain": [
       "<bound method NDFrame.describe of        Year  Month       State      Primary Mode  \\\n",
       "0      2009      1   Minnesota  Person-to-person   \n",
       "1      2009      1   Minnesota              Food   \n",
       "2      2009      2   Minnesota  Person-to-person   \n",
       "3      2009      1   Minnesota  Person-to-person   \n",
       "4      2009      1   Minnesota              Food   \n",
       "...     ...    ...         ...               ...   \n",
       "46019  2017      4     Florida              Food   \n",
       "46020  2017     12     Florida              Food   \n",
       "46021  2017     12  Multistate              Food   \n",
       "46022  2017      5     Florida              Food   \n",
       "46023  2014     11     Arizona              Food   \n",
       "\n",
       "                                       Etiology Serotype or Genotype  \\\n",
       "0                        Norovirus Genogroup II              unknown   \n",
       "1                                     Norovirus                  NaN   \n",
       "2                                     Norovirus                  NaN   \n",
       "3                             Norovirus unknown                  NaN   \n",
       "4                                     Norovirus                  NaN   \n",
       "...                                         ...                  ...   \n",
       "46019                    Norovirus Genogroup II                  NaN   \n",
       "46020                                       NaN                  NaN   \n",
       "46021  Salmonella enterica; Salmonella enterica   Montevideo; Cubana   \n",
       "46022                                       NaN                  NaN   \n",
       "46023    Bacillus cereus; Staphylococcus aureus                  NaN   \n",
       "\n",
       "            Etiology Status                       Setting  Illnesses  \\\n",
       "0                 Confirmed                   Hotel/motel         21   \n",
       "1                 Suspected  Restaurant - Sit-down dining          2   \n",
       "2                 Suspected                Other, specify         50   \n",
       "3                 Confirmed                    Restaurant         24   \n",
       "4                 Confirmed                           NaN         16   \n",
       "...                     ...                           ...        ...   \n",
       "46019             Confirmed  Restaurant - Sit-down dining         10   \n",
       "46020                   NaN  Restaurant - Sit-down dining          4   \n",
       "46021  Confirmed; Confirmed                       Unknown         62   \n",
       "46022                   NaN  Restaurant - Sit-down dining         10   \n",
       "46023  Suspected; Suspected                       Unknown         65   \n",
       "\n",
       "       Hospitalizations  ...  Deaths  Info on Deaths  \\\n",
       "0                   0.0  ...     0.0            19.0   \n",
       "1                   0.0  ...     0.0             2.0   \n",
       "2                   0.0  ...     0.0            50.0   \n",
       "3                   0.0  ...     0.0            24.0   \n",
       "4                   0.0  ...     0.0            16.0   \n",
       "...                 ...  ...     ...             ...   \n",
       "46019               0.0  ...     0.0            10.0   \n",
       "46020               0.0  ...     0.0             4.0   \n",
       "46021               3.0  ...     0.0            51.0   \n",
       "46022               0.0  ...     0.0            10.0   \n",
       "46023               1.0  ...     0.0            65.0   \n",
       "\n",
       "                                            Food Vehicle  \\\n",
       "0                                                    NaN   \n",
       "1                                                    NaN   \n",
       "2                                                    NaN   \n",
       "3                                                    NaN   \n",
       "4                                                    NaN   \n",
       "...                                                  ...   \n",
       "46019                                                NaN   \n",
       "46020                                                NaN   \n",
       "46021                                            sprouts   \n",
       "46022                                           fish dip   \n",
       "46023  meat chili; potato salad; beans, unspecified; ...   \n",
       "\n",
       "      Food Contaminated Ingredient IFSAC Category Water Exposure Water Type  \\\n",
       "0                              NaN            NaN            NaN        NaN   \n",
       "1                              NaN            NaN            NaN        NaN   \n",
       "2                              NaN            NaN            NaN        NaN   \n",
       "3                              NaN            NaN            NaN        NaN   \n",
       "4                              NaN            NaN            NaN        NaN   \n",
       "...                            ...            ...            ...        ...   \n",
       "46019                          NaN            NaN            NaN        NaN   \n",
       "46020                          NaN            NaN            NaN        NaN   \n",
       "46021                          NaN        Sprouts            NaN        NaN   \n",
       "46022                          NaN       Multiple            NaN        NaN   \n",
       "46023                          NaN       Multiple            NaN        NaN   \n",
       "\n",
       "      Animal Type Animal Type Specify Water Status  \n",
       "0             NaN                 NaN          NaN  \n",
       "1             NaN                 NaN          NaN  \n",
       "2             NaN                 NaN          NaN  \n",
       "3             NaN                 NaN          NaN  \n",
       "4             NaN                 NaN          NaN  \n",
       "...           ...                 ...          ...  \n",
       "46019         NaN                 NaN          NaN  \n",
       "46020         NaN                 NaN          NaN  \n",
       "46021         NaN                 NaN          NaN  \n",
       "46022         NaN                 NaN          NaN  \n",
       "46023         NaN                 NaN          NaN  \n",
       "\n",
       "[46024 rows x 21 columns]>"
      ]
     },
     "execution_count": 11,
     "metadata": {},
     "output_type": "execute_result"
    }
   ],
   "source": [
    "#describe the data \n",
    "df.describe"
   ]
  },
  {
   "cell_type": "code",
   "execution_count": 12,
   "metadata": {},
   "outputs": [
    {
     "data": {
      "text/plain": [
       "(46024, 21)"
      ]
     },
     "execution_count": 12,
     "metadata": {},
     "output_type": "execute_result"
    }
   ],
   "source": [
    "#Check initial size of dataframe \n",
    "df.shape"
   ]
  },
  {
   "cell_type": "code",
   "execution_count": 13,
   "metadata": {},
   "outputs": [
    {
     "data": {
      "text/plain": [
       "(46024, 21)"
      ]
     },
     "execution_count": 13,
     "metadata": {},
     "output_type": "execute_result"
    }
   ],
   "source": [
    "#check for rows that are completely empty \n",
    "df.dropna(how='all')\n",
    "df.shape"
   ]
  },
  {
   "cell_type": "code",
   "execution_count": 14,
   "metadata": {},
   "outputs": [
    {
     "name": "stdout",
     "output_type": "stream",
     "text": [
      "                              Year     Month  Illnesses  Hospitalizations  \\\n",
      "Year                      1.000000 -0.102969   0.055581         -0.012878   \n",
      "Month                    -0.102969  1.000000  -0.037754          0.001067   \n",
      "Illnesses                 0.055581 -0.037754   1.000000          0.323250   \n",
      "Hospitalizations         -0.012878  0.001067   0.323250          1.000000   \n",
      "Info on Hospitalizations -0.013543 -0.047861   0.856005          0.252862   \n",
      "Deaths                    0.019986 -0.000109   0.092446          0.333718   \n",
      "Info on Deaths           -0.013756 -0.044112   0.885809          0.249799   \n",
      "\n",
      "                          Info on Hospitalizations    Deaths  Info on Deaths  \n",
      "Year                                     -0.013543  0.019986       -0.013756  \n",
      "Month                                    -0.047861 -0.000109       -0.044112  \n",
      "Illnesses                                 0.856005  0.092446        0.885809  \n",
      "Hospitalizations                          0.252862  0.333718        0.249799  \n",
      "Info on Hospitalizations                  1.000000  0.086697        0.959006  \n",
      "Deaths                                    0.086697  1.000000        0.098058  \n",
      "Info on Deaths                            0.959006  0.098058        1.000000  \n"
     ]
    }
   ],
   "source": [
    "corrMatrix = df.corr()\n",
    "print(corrMatrix)"
   ]
  },
  {
   "cell_type": "code",
   "execution_count": 15,
   "metadata": {},
   "outputs": [
    {
     "data": {
      "image/png": "[encoded data removed]",
      "text/plain": [
       "<Figure size 432x288 with 2 Axes>"
      ]
     },
     "metadata": {
      "needs_background": "light"
     },
     "output_type": "display_data"
    }
   ],
   "source": [
    "sd.heatmap(corrMatrix, annot=True,cmap='RdBu_r',linewidth=0.5)\n",
    "#having issues with sizing\n",
    "b, t = plt.ylim() # discover the values for bottom and top\n",
    "b += 0.5 # Add 0.5 to the bottom\n",
    "t -= 0.5 # Subtract 0.5 from the top\n",
    "plt.ylim(b, t) # update the ylim(bottom, top) values\n",
    "plt.show()"
   ]
  },
  {
   "cell_type": "code",
   "execution_count": 16,
   "metadata": {},
   "outputs": [
    {
     "name": "stdout",
     "output_type": "stream",
     "text": [
      "       Year  Month     State      Primary Mode Etiology Serotype or Genotype  \\\n",
      "28     2009      1  Illinois              Food      NaN                  NaN   \n",
      "30     2009      1  Illinois              Food      NaN                  NaN   \n",
      "32     2009      1  Illinois              Food      NaN                  NaN   \n",
      "33     2009      1  Illinois              Food      NaN                  NaN   \n",
      "36     2009      1  Illinois              Food      NaN                  NaN   \n",
      "...     ...    ...       ...               ...      ...                  ...   \n",
      "46006  2017     12  New York  Person-to-person      NaN                  NaN   \n",
      "46010  2017     12  New York  Person-to-person      NaN                  NaN   \n",
      "46013  2017     12  New York  Person-to-person      NaN                  NaN   \n",
      "46020  2017     12   Florida              Food      NaN                  NaN   \n",
      "46022  2017      5   Florida              Food      NaN                  NaN   \n",
      "\n",
      "      Etiology Status                                            Setting  \\\n",
      "28                NaN                 Restaurant - other or unknown type   \n",
      "30                NaN  Caterer (food prepared off-site from where ser...   \n",
      "32                NaN                 Restaurant - other or unknown type   \n",
      "33                NaN                 Restaurant - other or unknown type   \n",
      "36                NaN                 Restaurant - other or unknown type   \n",
      "...               ...                                                ...   \n",
      "46006             NaN                                                NaN   \n",
      "46010             NaN                                                NaN   \n",
      "46013             NaN                                                NaN   \n",
      "46020             NaN                       Restaurant - Sit-down dining   \n",
      "46022             NaN                       Restaurant - Sit-down dining   \n",
      "\n",
      "       Illnesses  Hospitalizations  ...  Deaths  Info on Deaths  Food Vehicle  \\\n",
      "28             4               0.0  ...     0.0             4.0           NaN   \n",
      "30            31               0.0  ...     0.0            31.0           NaN   \n",
      "32             2               0.0  ...     0.0             2.0           NaN   \n",
      "33             4               0.0  ...     0.0             4.0           NaN   \n",
      "36             5               0.0  ...     0.0             5.0           NaN   \n",
      "...          ...               ...  ...     ...             ...           ...   \n",
      "46006         21               NaN  ...     NaN             NaN           NaN   \n",
      "46010         21               NaN  ...     NaN             NaN           NaN   \n",
      "46013         29               NaN  ...     NaN             NaN           NaN   \n",
      "46020          4               0.0  ...     0.0             4.0           NaN   \n",
      "46022         10               0.0  ...     0.0            10.0      fish dip   \n",
      "\n",
      "      Food Contaminated Ingredient IFSAC Category Water Exposure Water Type  \\\n",
      "28                             NaN            NaN            NaN        NaN   \n",
      "30                             NaN            NaN            NaN        NaN   \n",
      "32                             NaN            NaN            NaN        NaN   \n",
      "33                             NaN            NaN            NaN        NaN   \n",
      "36                             NaN            NaN            NaN        NaN   \n",
      "...                            ...            ...            ...        ...   \n",
      "46006                          NaN            NaN            NaN        NaN   \n",
      "46010                          NaN            NaN            NaN        NaN   \n",
      "46013                          NaN            NaN            NaN        NaN   \n",
      "46020                          NaN            NaN            NaN        NaN   \n",
      "46022                          NaN       Multiple            NaN        NaN   \n",
      "\n",
      "      Animal Type Animal Type Specify Water Status  \n",
      "28            NaN                 NaN          NaN  \n",
      "30            NaN                 NaN          NaN  \n",
      "32            NaN                 NaN          NaN  \n",
      "33            NaN                 NaN          NaN  \n",
      "36            NaN                 NaN          NaN  \n",
      "...           ...                 ...          ...  \n",
      "46006         NaN                 NaN          NaN  \n",
      "46010         NaN                 NaN          NaN  \n",
      "46013         NaN                 NaN          NaN  \n",
      "46020         NaN                 NaN          NaN  \n",
      "46022         NaN                 NaN          NaN  \n",
      "\n",
      "[12964 rows x 21 columns]\n"
     ]
    }
   ],
   "source": [
    "#locates where the missing data is. True = NAN\n",
    "df.isnull()\n",
    "# Depending on what we are looking at, could write an algorithim to fill in these values? Potentiall kNN?\n",
    "#Print the rows where Etilogy is missing\n",
    "print(df[df[\"Etiology\"].isnull()])"
   ]
  },
  {
   "cell_type": "code",
   "execution_count": null,
   "metadata": {},
   "outputs": [],
   "source": [
    "#I want to look at the rows that have an Etiology diagnosis. So I will take out the rows that have a missing Etiology. \n",
    "df_Etiology = df.loc[df['Etiology'].notna()]\n",
    "#print(df_Etiology)\n",
    "df_Etiology.shape\n"
   ]
  },
  {
   "cell_type": "code",
   "execution_count": null,
   "metadata": {},
   "outputs": [],
   "source": [
    "#Find out how many rows didn't have an Etionogy \n",
    "(df.shape[0]-df_Etiology.shape[0])\n",
    "(df.shape[0]-df_Etiology.shape[0])/df.shape[0] *100\n",
    "#We lose 28% of our data here. ***Issues***\n",
    "#df=df_Etiology\n",
    "#print(df)"
   ]
  },
  {
   "cell_type": "code",
   "execution_count": 17,
   "metadata": {},
   "outputs": [
    {
     "data": {
      "text/plain": [
       "<matplotlib.axes._subplots.AxesSubplot at 0x1a20458d50>"
      ]
     },
     "execution_count": 17,
     "metadata": {},
     "output_type": "execute_result"
    },
    {
     "data": {
      "image/png": "[encoded data removed]",
      "text/plain": [
       "<Figure size 432x288 with 1 Axes>"
      ]
     },
     "metadata": {
      "needs_background": "light"
     },
     "output_type": "display_data"
    }
   ],
   "source": [
    "sd.boxplot(x=df['Illnesses'])"
   ]
  },
  {
   "cell_type": "code",
   "execution_count": 18,
   "metadata": {},
   "outputs": [
    {
     "data": {
      "text/html": [
       "<div>\n",
       "<style scoped>\n",
       "    .dataframe tbody tr th:only-of-type {\n",
       "        vertical-align: middle;\n",
       "    }\n",
       "\n",
       "    .dataframe tbody tr th {\n",
       "        vertical-align: top;\n",
       "    }\n",
       "\n",
       "    .dataframe thead th {\n",
       "        text-align: right;\n",
       "    }\n",
       "</style>\n",
       "<table border=\"1\" class=\"dataframe\">\n",
       "  <thead>\n",
       "    <tr style=\"text-align: right;\">\n",
       "      <th></th>\n",
       "      <th>Year</th>\n",
       "      <th>Month</th>\n",
       "      <th>State</th>\n",
       "      <th>Primary Mode</th>\n",
       "      <th>Etiology</th>\n",
       "      <th>Serotype or Genotype</th>\n",
       "      <th>Etiology Status</th>\n",
       "      <th>Setting</th>\n",
       "      <th>Illnesses</th>\n",
       "      <th>Hospitalizations</th>\n",
       "      <th>...</th>\n",
       "      <th>Deaths</th>\n",
       "      <th>Info on Deaths</th>\n",
       "      <th>Food Vehicle</th>\n",
       "      <th>Food Contaminated Ingredient</th>\n",
       "      <th>IFSAC Category</th>\n",
       "      <th>Water Exposure</th>\n",
       "      <th>Water Type</th>\n",
       "      <th>Animal Type</th>\n",
       "      <th>Animal Type Specify</th>\n",
       "      <th>Water Status</th>\n",
       "    </tr>\n",
       "  </thead>\n",
       "  <tbody>\n",
       "    <tr>\n",
       "      <td>7100</td>\n",
       "      <td>2010</td>\n",
       "      <td>2</td>\n",
       "      <td>Multistate</td>\n",
       "      <td>Food</td>\n",
       "      <td>Salmonella enterica</td>\n",
       "      <td>Enteritidis</td>\n",
       "      <td>Confirmed</td>\n",
       "      <td>Restaurant - Sit-down dining; Restaurant - oth...</td>\n",
       "      <td>1939</td>\n",
       "      <td>NaN</td>\n",
       "      <td>...</td>\n",
       "      <td>NaN</td>\n",
       "      <td>NaN</td>\n",
       "      <td>shell egg, other</td>\n",
       "      <td>egg</td>\n",
       "      <td>Eggs</td>\n",
       "      <td>NaN</td>\n",
       "      <td>NaN</td>\n",
       "      <td>NaN</td>\n",
       "      <td>NaN</td>\n",
       "      <td>NaN</td>\n",
       "    </tr>\n",
       "    <tr>\n",
       "      <td>11230</td>\n",
       "      <td>2013</td>\n",
       "      <td>4</td>\n",
       "      <td>Alaska</td>\n",
       "      <td>Person-to-person</td>\n",
       "      <td>Norovirus Genogroup I</td>\n",
       "      <td>unknown</td>\n",
       "      <td>Confirmed</td>\n",
       "      <td>School/college/university</td>\n",
       "      <td>2500</td>\n",
       "      <td>0.0</td>\n",
       "      <td>...</td>\n",
       "      <td>0.0</td>\n",
       "      <td>2500.0</td>\n",
       "      <td>NaN</td>\n",
       "      <td>NaN</td>\n",
       "      <td>NaN</td>\n",
       "      <td>NaN</td>\n",
       "      <td>NaN</td>\n",
       "      <td>NaN</td>\n",
       "      <td>NaN</td>\n",
       "      <td>NaN</td>\n",
       "    </tr>\n",
       "    <tr>\n",
       "      <td>14188</td>\n",
       "      <td>2013</td>\n",
       "      <td>7</td>\n",
       "      <td>Illinois</td>\n",
       "      <td>Water</td>\n",
       "      <td>Plant/Herbal toxins</td>\n",
       "      <td>NaN</td>\n",
       "      <td>Suspected</td>\n",
       "      <td>Other</td>\n",
       "      <td>1341</td>\n",
       "      <td>0.0</td>\n",
       "      <td>...</td>\n",
       "      <td>0.0</td>\n",
       "      <td>NaN</td>\n",
       "      <td>NaN</td>\n",
       "      <td>NaN</td>\n",
       "      <td>NaN</td>\n",
       "      <td>Recreational water -- untreated</td>\n",
       "      <td>Pond</td>\n",
       "      <td>NaN</td>\n",
       "      <td>NaN</td>\n",
       "      <td>Reviewed</td>\n",
       "    </tr>\n",
       "    <tr>\n",
       "      <td>16241</td>\n",
       "      <td>2014</td>\n",
       "      <td>3</td>\n",
       "      <td>Indiana</td>\n",
       "      <td>Person-to-person</td>\n",
       "      <td>Shigella sonnei</td>\n",
       "      <td>subgroup D</td>\n",
       "      <td>Confirmed</td>\n",
       "      <td>Other, specify</td>\n",
       "      <td>1101</td>\n",
       "      <td>53.0</td>\n",
       "      <td>...</td>\n",
       "      <td>0.0</td>\n",
       "      <td>1075.0</td>\n",
       "      <td>NaN</td>\n",
       "      <td>NaN</td>\n",
       "      <td>NaN</td>\n",
       "      <td>NaN</td>\n",
       "      <td>NaN</td>\n",
       "      <td>NaN</td>\n",
       "      <td>NaN</td>\n",
       "      <td>NaN</td>\n",
       "    </tr>\n",
       "    <tr>\n",
       "      <td>27874</td>\n",
       "      <td>2006</td>\n",
       "      <td>4</td>\n",
       "      <td>Colorado</td>\n",
       "      <td>Food</td>\n",
       "      <td>Norovirus Genogroup I</td>\n",
       "      <td>NaN</td>\n",
       "      <td>Confirmed</td>\n",
       "      <td>NaN</td>\n",
       "      <td>1200</td>\n",
       "      <td>1.0</td>\n",
       "      <td>...</td>\n",
       "      <td>0.0</td>\n",
       "      <td>NaN</td>\n",
       "      <td>NaN</td>\n",
       "      <td>NaN</td>\n",
       "      <td>NaN</td>\n",
       "      <td>NaN</td>\n",
       "      <td>NaN</td>\n",
       "      <td>NaN</td>\n",
       "      <td>NaN</td>\n",
       "      <td>NaN</td>\n",
       "    </tr>\n",
       "    <tr>\n",
       "      <td>31020</td>\n",
       "      <td>2006</td>\n",
       "      <td>5</td>\n",
       "      <td>California</td>\n",
       "      <td>Food</td>\n",
       "      <td>Campylobacter jejuni</td>\n",
       "      <td>NaN</td>\n",
       "      <td>Confirmed</td>\n",
       "      <td>Prison/jail</td>\n",
       "      <td>1644</td>\n",
       "      <td>7.0</td>\n",
       "      <td>...</td>\n",
       "      <td>0.0</td>\n",
       "      <td>NaN</td>\n",
       "      <td>other milk, pasteurized</td>\n",
       "      <td>NaN</td>\n",
       "      <td>Dairy</td>\n",
       "      <td>NaN</td>\n",
       "      <td>NaN</td>\n",
       "      <td>NaN</td>\n",
       "      <td>NaN</td>\n",
       "      <td>NaN</td>\n",
       "    </tr>\n",
       "    <tr>\n",
       "      <td>31052</td>\n",
       "      <td>2008</td>\n",
       "      <td>4</td>\n",
       "      <td>Multistate</td>\n",
       "      <td>Food</td>\n",
       "      <td>Salmonella enterica</td>\n",
       "      <td>Saintpaul</td>\n",
       "      <td>Confirmed</td>\n",
       "      <td>NaN</td>\n",
       "      <td>1500</td>\n",
       "      <td>308.0</td>\n",
       "      <td>...</td>\n",
       "      <td>2.0</td>\n",
       "      <td>NaN</td>\n",
       "      <td>peppers, jalapeno; tomato, unspecified; pepper...</td>\n",
       "      <td>NaN</td>\n",
       "      <td>Seeded Vegetables</td>\n",
       "      <td>NaN</td>\n",
       "      <td>NaN</td>\n",
       "      <td>NaN</td>\n",
       "      <td>NaN</td>\n",
       "      <td>NaN</td>\n",
       "    </tr>\n",
       "    <tr>\n",
       "      <td>43606</td>\n",
       "      <td>2017</td>\n",
       "      <td>4</td>\n",
       "      <td>Nevada</td>\n",
       "      <td>Person-to-person</td>\n",
       "      <td>Norovirus Genogroup II; Norovirus Genogroup I;...</td>\n",
       "      <td>GII.2; unknown - ; GII.3;</td>\n",
       "      <td>Confirmed; Confirmed; Confirmed; Confirmed</td>\n",
       "      <td>School/college/university</td>\n",
       "      <td>1000</td>\n",
       "      <td>0.0</td>\n",
       "      <td>...</td>\n",
       "      <td>0.0</td>\n",
       "      <td>279.0</td>\n",
       "      <td>NaN</td>\n",
       "      <td>NaN</td>\n",
       "      <td>NaN</td>\n",
       "      <td>NaN</td>\n",
       "      <td>NaN</td>\n",
       "      <td>NaN</td>\n",
       "      <td>NaN</td>\n",
       "      <td>NaN</td>\n",
       "    </tr>\n",
       "  </tbody>\n",
       "</table>\n",
       "<p>8 rows × 21 columns</p>\n",
       "</div>"
      ],
      "text/plain": [
       "       Year  Month       State      Primary Mode  \\\n",
       "7100   2010      2  Multistate              Food   \n",
       "11230  2013      4      Alaska  Person-to-person   \n",
       "14188  2013      7    Illinois             Water   \n",
       "16241  2014      3     Indiana  Person-to-person   \n",
       "27874  2006      4    Colorado              Food   \n",
       "31020  2006      5  California              Food   \n",
       "31052  2008      4  Multistate              Food   \n",
       "43606  2017      4      Nevada  Person-to-person   \n",
       "\n",
       "                                                Etiology  \\\n",
       "7100                                 Salmonella enterica   \n",
       "11230                              Norovirus Genogroup I   \n",
       "14188                                Plant/Herbal toxins   \n",
       "16241                                    Shigella sonnei   \n",
       "27874                              Norovirus Genogroup I   \n",
       "31020                               Campylobacter jejuni   \n",
       "31052                                Salmonella enterica   \n",
       "43606  Norovirus Genogroup II; Norovirus Genogroup I;...   \n",
       "\n",
       "             Serotype or Genotype                             Etiology Status  \\\n",
       "7100                  Enteritidis                                   Confirmed   \n",
       "11230                     unknown                                   Confirmed   \n",
       "14188                         NaN                                   Suspected   \n",
       "16241                  subgroup D                                   Confirmed   \n",
       "27874                         NaN                                   Confirmed   \n",
       "31020                         NaN                                   Confirmed   \n",
       "31052                   Saintpaul                                   Confirmed   \n",
       "43606  GII.2; unknown - ; GII.3;   Confirmed; Confirmed; Confirmed; Confirmed   \n",
       "\n",
       "                                                 Setting  Illnesses  \\\n",
       "7100   Restaurant - Sit-down dining; Restaurant - oth...       1939   \n",
       "11230                          School/college/university       2500   \n",
       "14188                                              Other       1341   \n",
       "16241                                     Other, specify       1101   \n",
       "27874                                                NaN       1200   \n",
       "31020                                        Prison/jail       1644   \n",
       "31052                                                NaN       1500   \n",
       "43606                          School/college/university       1000   \n",
       "\n",
       "       Hospitalizations  ...  Deaths  Info on Deaths  \\\n",
       "7100                NaN  ...     NaN             NaN   \n",
       "11230               0.0  ...     0.0          2500.0   \n",
       "14188               0.0  ...     0.0             NaN   \n",
       "16241              53.0  ...     0.0          1075.0   \n",
       "27874               1.0  ...     0.0             NaN   \n",
       "31020               7.0  ...     0.0             NaN   \n",
       "31052             308.0  ...     2.0             NaN   \n",
       "43606               0.0  ...     0.0           279.0   \n",
       "\n",
       "                                            Food Vehicle  \\\n",
       "7100                                    shell egg, other   \n",
       "11230                                                NaN   \n",
       "14188                                                NaN   \n",
       "16241                                                NaN   \n",
       "27874                                                NaN   \n",
       "31020                            other milk, pasteurized   \n",
       "31052  peppers, jalapeno; tomato, unspecified; pepper...   \n",
       "43606                                                NaN   \n",
       "\n",
       "      Food Contaminated Ingredient     IFSAC Category  \\\n",
       "7100                           egg               Eggs   \n",
       "11230                          NaN                NaN   \n",
       "14188                          NaN                NaN   \n",
       "16241                          NaN                NaN   \n",
       "27874                          NaN                NaN   \n",
       "31020                          NaN              Dairy   \n",
       "31052                          NaN  Seeded Vegetables   \n",
       "43606                          NaN                NaN   \n",
       "\n",
       "                        Water Exposure Water Type Animal Type  \\\n",
       "7100                               NaN        NaN         NaN   \n",
       "11230                              NaN        NaN         NaN   \n",
       "14188  Recreational water -- untreated       Pond         NaN   \n",
       "16241                              NaN        NaN         NaN   \n",
       "27874                              NaN        NaN         NaN   \n",
       "31020                              NaN        NaN         NaN   \n",
       "31052                              NaN        NaN         NaN   \n",
       "43606                              NaN        NaN         NaN   \n",
       "\n",
       "      Animal Type Specify Water Status  \n",
       "7100                  NaN          NaN  \n",
       "11230                 NaN          NaN  \n",
       "14188                 NaN     Reviewed  \n",
       "16241                 NaN          NaN  \n",
       "27874                 NaN          NaN  \n",
       "31020                 NaN          NaN  \n",
       "31052                 NaN          NaN  \n",
       "43606                 NaN          NaN  \n",
       "\n",
       "[8 rows x 21 columns]"
      ]
     },
     "execution_count": 18,
     "metadata": {},
     "output_type": "execute_result"
    }
   ],
   "source": [
    "#Identify which column has the outliar points \n",
    "df.loc[df['Illnesses'] >= 1000]"
   ]
  },
  {
   "cell_type": "code",
   "execution_count": 19,
   "metadata": {},
   "outputs": [
    {
     "data": {
      "text/html": [
       "<div>\n",
       "<style scoped>\n",
       "    .dataframe tbody tr th:only-of-type {\n",
       "        vertical-align: middle;\n",
       "    }\n",
       "\n",
       "    .dataframe tbody tr th {\n",
       "        vertical-align: top;\n",
       "    }\n",
       "\n",
       "    .dataframe thead th {\n",
       "        text-align: right;\n",
       "    }\n",
       "</style>\n",
       "<table border=\"1\" class=\"dataframe\">\n",
       "  <thead>\n",
       "    <tr style=\"text-align: right;\">\n",
       "      <th></th>\n",
       "      <th>State</th>\n",
       "      <th>Illnesses</th>\n",
       "    </tr>\n",
       "  </thead>\n",
       "  <tbody>\n",
       "    <tr>\n",
       "      <td>0</td>\n",
       "      <td>Alabama</td>\n",
       "      <td>5962</td>\n",
       "    </tr>\n",
       "    <tr>\n",
       "      <td>1</td>\n",
       "      <td>Alaska</td>\n",
       "      <td>5107</td>\n",
       "    </tr>\n",
       "    <tr>\n",
       "      <td>2</td>\n",
       "      <td>Arizona</td>\n",
       "      <td>22764</td>\n",
       "    </tr>\n",
       "    <tr>\n",
       "      <td>3</td>\n",
       "      <td>Arkansas</td>\n",
       "      <td>4456</td>\n",
       "    </tr>\n",
       "    <tr>\n",
       "      <td>4</td>\n",
       "      <td>California</td>\n",
       "      <td>43241</td>\n",
       "    </tr>\n",
       "    <tr>\n",
       "      <td>5</td>\n",
       "      <td>Colorado</td>\n",
       "      <td>23044</td>\n",
       "    </tr>\n",
       "    <tr>\n",
       "      <td>6</td>\n",
       "      <td>Connecticut</td>\n",
       "      <td>15622</td>\n",
       "    </tr>\n",
       "    <tr>\n",
       "      <td>7</td>\n",
       "      <td>Delaware</td>\n",
       "      <td>2093</td>\n",
       "    </tr>\n",
       "    <tr>\n",
       "      <td>8</td>\n",
       "      <td>Florida</td>\n",
       "      <td>26194</td>\n",
       "    </tr>\n",
       "    <tr>\n",
       "      <td>9</td>\n",
       "      <td>Georgia</td>\n",
       "      <td>14745</td>\n",
       "    </tr>\n",
       "    <tr>\n",
       "      <td>10</td>\n",
       "      <td>Guam</td>\n",
       "      <td>196</td>\n",
       "    </tr>\n",
       "    <tr>\n",
       "      <td>11</td>\n",
       "      <td>Hawaii</td>\n",
       "      <td>6211</td>\n",
       "    </tr>\n",
       "    <tr>\n",
       "      <td>12</td>\n",
       "      <td>Idaho</td>\n",
       "      <td>2273</td>\n",
       "    </tr>\n",
       "    <tr>\n",
       "      <td>13</td>\n",
       "      <td>Illinois</td>\n",
       "      <td>58642</td>\n",
       "    </tr>\n",
       "    <tr>\n",
       "      <td>14</td>\n",
       "      <td>Indiana</td>\n",
       "      <td>12780</td>\n",
       "    </tr>\n",
       "    <tr>\n",
       "      <td>15</td>\n",
       "      <td>Iowa</td>\n",
       "      <td>13157</td>\n",
       "    </tr>\n",
       "    <tr>\n",
       "      <td>16</td>\n",
       "      <td>Kansas</td>\n",
       "      <td>10837</td>\n",
       "    </tr>\n",
       "    <tr>\n",
       "      <td>17</td>\n",
       "      <td>Kentucky</td>\n",
       "      <td>19298</td>\n",
       "    </tr>\n",
       "    <tr>\n",
       "      <td>18</td>\n",
       "      <td>Louisiana</td>\n",
       "      <td>7486</td>\n",
       "    </tr>\n",
       "    <tr>\n",
       "      <td>19</td>\n",
       "      <td>Maine</td>\n",
       "      <td>23240</td>\n",
       "    </tr>\n",
       "    <tr>\n",
       "      <td>20</td>\n",
       "      <td>Maryland</td>\n",
       "      <td>11392</td>\n",
       "    </tr>\n",
       "    <tr>\n",
       "      <td>21</td>\n",
       "      <td>Massachusetts</td>\n",
       "      <td>41989</td>\n",
       "    </tr>\n",
       "    <tr>\n",
       "      <td>22</td>\n",
       "      <td>Michigan</td>\n",
       "      <td>55730</td>\n",
       "    </tr>\n",
       "    <tr>\n",
       "      <td>23</td>\n",
       "      <td>Minnesota</td>\n",
       "      <td>44103</td>\n",
       "    </tr>\n",
       "    <tr>\n",
       "      <td>24</td>\n",
       "      <td>Mississippi</td>\n",
       "      <td>5041</td>\n",
       "    </tr>\n",
       "    <tr>\n",
       "      <td>25</td>\n",
       "      <td>Missouri</td>\n",
       "      <td>17819</td>\n",
       "    </tr>\n",
       "    <tr>\n",
       "      <td>26</td>\n",
       "      <td>Montana</td>\n",
       "      <td>6824</td>\n",
       "    </tr>\n",
       "    <tr>\n",
       "      <td>27</td>\n",
       "      <td>Multistate</td>\n",
       "      <td>33513</td>\n",
       "    </tr>\n",
       "    <tr>\n",
       "      <td>28</td>\n",
       "      <td>Nebraska</td>\n",
       "      <td>7829</td>\n",
       "    </tr>\n",
       "    <tr>\n",
       "      <td>29</td>\n",
       "      <td>Nevada</td>\n",
       "      <td>21502</td>\n",
       "    </tr>\n",
       "    <tr>\n",
       "      <td>30</td>\n",
       "      <td>New Hampshire</td>\n",
       "      <td>25335</td>\n",
       "    </tr>\n",
       "    <tr>\n",
       "      <td>31</td>\n",
       "      <td>New Jersey</td>\n",
       "      <td>4843</td>\n",
       "    </tr>\n",
       "    <tr>\n",
       "      <td>32</td>\n",
       "      <td>New Mexico</td>\n",
       "      <td>9153</td>\n",
       "    </tr>\n",
       "    <tr>\n",
       "      <td>33</td>\n",
       "      <td>New York</td>\n",
       "      <td>87648</td>\n",
       "    </tr>\n",
       "    <tr>\n",
       "      <td>34</td>\n",
       "      <td>North Carolina</td>\n",
       "      <td>28821</td>\n",
       "    </tr>\n",
       "    <tr>\n",
       "      <td>35</td>\n",
       "      <td>North Dakota</td>\n",
       "      <td>8106</td>\n",
       "    </tr>\n",
       "    <tr>\n",
       "      <td>36</td>\n",
       "      <td>Ohio</td>\n",
       "      <td>59671</td>\n",
       "    </tr>\n",
       "    <tr>\n",
       "      <td>37</td>\n",
       "      <td>Oklahoma</td>\n",
       "      <td>2500</td>\n",
       "    </tr>\n",
       "    <tr>\n",
       "      <td>38</td>\n",
       "      <td>Oregon</td>\n",
       "      <td>41924</td>\n",
       "    </tr>\n",
       "    <tr>\n",
       "      <td>39</td>\n",
       "      <td>Pennsylvania</td>\n",
       "      <td>66464</td>\n",
       "    </tr>\n",
       "    <tr>\n",
       "      <td>40</td>\n",
       "      <td>Puerto Rico</td>\n",
       "      <td>1977</td>\n",
       "    </tr>\n",
       "    <tr>\n",
       "      <td>41</td>\n",
       "      <td>Republic of Palau</td>\n",
       "      <td>9</td>\n",
       "    </tr>\n",
       "    <tr>\n",
       "      <td>42</td>\n",
       "      <td>Rhode Island</td>\n",
       "      <td>12142</td>\n",
       "    </tr>\n",
       "    <tr>\n",
       "      <td>43</td>\n",
       "      <td>South Carolina</td>\n",
       "      <td>29045</td>\n",
       "    </tr>\n",
       "    <tr>\n",
       "      <td>44</td>\n",
       "      <td>South Dakota</td>\n",
       "      <td>1042</td>\n",
       "    </tr>\n",
       "    <tr>\n",
       "      <td>45</td>\n",
       "      <td>Tennessee</td>\n",
       "      <td>20342</td>\n",
       "    </tr>\n",
       "    <tr>\n",
       "      <td>46</td>\n",
       "      <td>Texas</td>\n",
       "      <td>26235</td>\n",
       "    </tr>\n",
       "    <tr>\n",
       "      <td>47</td>\n",
       "      <td>Utah</td>\n",
       "      <td>7603</td>\n",
       "    </tr>\n",
       "    <tr>\n",
       "      <td>48</td>\n",
       "      <td>Vermont</td>\n",
       "      <td>3554</td>\n",
       "    </tr>\n",
       "    <tr>\n",
       "      <td>49</td>\n",
       "      <td>Virginia</td>\n",
       "      <td>67620</td>\n",
       "    </tr>\n",
       "    <tr>\n",
       "      <td>50</td>\n",
       "      <td>Washington</td>\n",
       "      <td>13115</td>\n",
       "    </tr>\n",
       "    <tr>\n",
       "      <td>51</td>\n",
       "      <td>Washington DC</td>\n",
       "      <td>2922</td>\n",
       "    </tr>\n",
       "    <tr>\n",
       "      <td>52</td>\n",
       "      <td>West Virginia</td>\n",
       "      <td>17112</td>\n",
       "    </tr>\n",
       "    <tr>\n",
       "      <td>53</td>\n",
       "      <td>Wisconsin</td>\n",
       "      <td>71267</td>\n",
       "    </tr>\n",
       "    <tr>\n",
       "      <td>54</td>\n",
       "      <td>Wyoming</td>\n",
       "      <td>6440</td>\n",
       "    </tr>\n",
       "  </tbody>\n",
       "</table>\n",
       "</div>"
      ],
      "text/plain": [
       "                State  Illnesses\n",
       "0             Alabama       5962\n",
       "1              Alaska       5107\n",
       "2             Arizona      22764\n",
       "3            Arkansas       4456\n",
       "4          California      43241\n",
       "5            Colorado      23044\n",
       "6         Connecticut      15622\n",
       "7            Delaware       2093\n",
       "8             Florida      26194\n",
       "9             Georgia      14745\n",
       "10               Guam        196\n",
       "11             Hawaii       6211\n",
       "12              Idaho       2273\n",
       "13           Illinois      58642\n",
       "14            Indiana      12780\n",
       "15               Iowa      13157\n",
       "16             Kansas      10837\n",
       "17           Kentucky      19298\n",
       "18          Louisiana       7486\n",
       "19              Maine      23240\n",
       "20           Maryland      11392\n",
       "21      Massachusetts      41989\n",
       "22           Michigan      55730\n",
       "23          Minnesota      44103\n",
       "24        Mississippi       5041\n",
       "25           Missouri      17819\n",
       "26            Montana       6824\n",
       "27         Multistate      33513\n",
       "28           Nebraska       7829\n",
       "29             Nevada      21502\n",
       "30      New Hampshire      25335\n",
       "31         New Jersey       4843\n",
       "32         New Mexico       9153\n",
       "33           New York      87648\n",
       "34     North Carolina      28821\n",
       "35       North Dakota       8106\n",
       "36               Ohio      59671\n",
       "37           Oklahoma       2500\n",
       "38             Oregon      41924\n",
       "39       Pennsylvania      66464\n",
       "40        Puerto Rico       1977\n",
       "41  Republic of Palau          9\n",
       "42       Rhode Island      12142\n",
       "43     South Carolina      29045\n",
       "44       South Dakota       1042\n",
       "45          Tennessee      20342\n",
       "46              Texas      26235\n",
       "47               Utah       7603\n",
       "48            Vermont       3554\n",
       "49           Virginia      67620\n",
       "50         Washington      13115\n",
       "51      Washington DC       2922\n",
       "52      West Virginia      17112\n",
       "53          Wisconsin      71267\n",
       "54            Wyoming       6440"
      ]
     },
     "metadata": {},
     "output_type": "display_data"
    }
   ],
   "source": [
    "#Look at the number of illnesses by state \n",
    "#print(sorted(df['Etiology'].unique()))\n",
    "df3 = df.groupby(['State'],as_index = False )['Illnesses'].sum()\n",
    "display(df3)"
   ]
  },
  {
   "cell_type": "code",
   "execution_count": 20,
   "metadata": {},
   "outputs": [
    {
     "data": {
      "text/plain": [
       "<matplotlib.axes._subplots.AxesSubplot at 0x1a2082f710>"
      ]
     },
     "execution_count": 20,
     "metadata": {},
     "output_type": "execute_result"
    },
    {
     "data": {
      "image/png": "[encoded data removed]",
      "text/plain": [
       "<Figure size 432x288 with 1 Axes>"
      ]
     },
     "metadata": {
      "needs_background": "light"
     },
     "output_type": "display_data"
    }
   ],
   "source": [
    "#Locate Outliers - based on the data this would potentially happen in cetrain columns only. We will look for outliars in the number of illness per etiology. \n",
    "sd.boxplot(x=df3['Illnesses'])"
   ]
  },
  {
   "cell_type": "code",
   "execution_count": 21,
   "metadata": {},
   "outputs": [
    {
     "data": {
      "image/png": "[encoded data removed]",
      "text/plain": [
       "<Figure size 1152x576 with 1 Axes>"
      ]
     },
     "metadata": {
      "needs_background": "light"
     },
     "output_type": "display_data"
    }
   ],
   "source": [
    "#Look at scatter plot of the data of Etiology vs. # Illnesses \n",
    "# First, \n",
    "fig, ax = plt.subplots(figsize=(16,8))\n",
    "ax.bar(df3['State'] , df3['Illnesses'])\n",
    "ax.set_xlabel('State')\n",
    "ax.set_ylabel('# of Illnesses')\n",
    "plt.show()\n",
    "#We get an error because there are NaN values in the df. To deal with this, we will take out all of the rows that have no Etiology. \n"
   ]
  },
  {
   "cell_type": "code",
   "execution_count": 22,
   "metadata": {},
   "outputs": [],
   "source": [
    "us_state_abbrev = {\n",
    "    'Alabama': 'AL',\n",
    "    'Alaska': 'AK',\n",
    "    'Arizona': 'AZ',\n",
    "    'Arkansas': 'AR',\n",
    "    'California': 'CA',\n",
    "    'Colorado': 'CO',\n",
    "    'Connecticut': 'CT',\n",
    "    'Delaware': 'DE',\n",
    "    'District of Columbia': 'DC',\n",
    "    'Florida': 'FL',\n",
    "    'Georgia': 'GA',\n",
    "    'Hawaii': 'HI',\n",
    "    'Idaho': 'ID',\n",
    "    'Illinois': 'IL',\n",
    "    'Indiana': 'IN',\n",
    "    'Iowa': 'IA',\n",
    "    'Kansas': 'KS',\n",
    "    'Kentucky': 'KY',\n",
    "    'Louisiana': 'LA',\n",
    "    'Maine': 'ME',\n",
    "    'Maryland': 'MD',\n",
    "    'Massachusetts': 'MA',\n",
    "    'Michigan': 'MI',\n",
    "    'Minnesota': 'MN',\n",
    "    'Mississippi': 'MS',\n",
    "    'Missouri': 'MO',\n",
    "    'Montana': 'MT',\n",
    "    'Nebraska': 'NE',\n",
    "    'Nevada': 'NV',\n",
    "    'New Hampshire': 'NH',\n",
    "    'New Jersey': 'NJ',\n",
    "    'New Mexico': 'NM',\n",
    "    'New York': 'NY',\n",
    "    'North Carolina': 'NC',\n",
    "    'North Dakota': 'ND',\n",
    "    'Northern Mariana Islands':'MP',\n",
    "    'Ohio': 'OH',\n",
    "    'Oklahoma': 'OK',\n",
    "    'Oregon': 'OR',\n",
    "    'Palau': 'PW',\n",
    "    'Pennsylvania': 'PA',\n",
    "    'Puerto Rico': 'PR',\n",
    "    'Rhode Island': 'RI',\n",
    "    'South Carolina': 'SC',\n",
    "    'South Dakota': 'SD',\n",
    "    'Tennessee': 'TN',\n",
    "    'Texas': 'TX',\n",
    "    'Utah': 'UT',\n",
    "    'Vermont': 'VT',\n",
    "    'Virgin Islands': 'VI',\n",
    "    'Virginia': 'VA',\n",
    "    'Washington': 'WA',\n",
    "    'West Virginia': 'WV',\n",
    "    'Wisconsin': 'WI',\n",
    "    'Wyoming': 'WY',\n",
    "}"
   ]
  },
  {
   "cell_type": "code",
   "execution_count": 25,
   "metadata": {},
   "outputs": [
    {
     "name": "stdout",
     "output_type": "stream",
     "text": [
      "                State Illnesses                                   text\n",
      "0                  AL      5962          Alabama<br># of Illnesses5962\n",
      "1                  AK      5107           Alaska<br># of Illnesses5107\n",
      "2                  AZ     22764         Arizona<br># of Illnesses22764\n",
      "3                  AR      4456         Arkansas<br># of Illnesses4456\n",
      "4                  CA     43241      California<br># of Illnesses43241\n",
      "5                  CO     23044        Colorado<br># of Illnesses23044\n",
      "6                  CT     15622     Connecticut<br># of Illnesses15622\n",
      "7                  DE      2093         Delaware<br># of Illnesses2093\n",
      "8                  FL     26194         Florida<br># of Illnesses26194\n",
      "9                  GA     14745         Georgia<br># of Illnesses14745\n",
      "10               Guam       196              Guam<br># of Illnesses196\n",
      "11                 HI      6211           Hawaii<br># of Illnesses6211\n",
      "12                 ID      2273            Idaho<br># of Illnesses2273\n",
      "13                 IL     58642        Illinois<br># of Illnesses58642\n",
      "14                 IN     12780         Indiana<br># of Illnesses12780\n",
      "15                 IA     13157            Iowa<br># of Illnesses13157\n",
      "16                 KS     10837          Kansas<br># of Illnesses10837\n",
      "17                 KY     19298        Kentucky<br># of Illnesses19298\n",
      "18                 LA      7486        Louisiana<br># of Illnesses7486\n",
      "19                 ME     23240           Maine<br># of Illnesses23240\n",
      "20                 MD     11392        Maryland<br># of Illnesses11392\n",
      "21                 MA     41989   Massachusetts<br># of Illnesses41989\n",
      "22                 MI     55730        Michigan<br># of Illnesses55730\n",
      "23                 MN     44103       Minnesota<br># of Illnesses44103\n",
      "24                 MS      5041      Mississippi<br># of Illnesses5041\n",
      "25                 MO     17819        Missouri<br># of Illnesses17819\n",
      "26                 MT      6824          Montana<br># of Illnesses6824\n",
      "27         Multistate     33513      Multistate<br># of Illnesses33513\n",
      "28                 NE      7829         Nebraska<br># of Illnesses7829\n",
      "29                 NV     21502          Nevada<br># of Illnesses21502\n",
      "30                 NH     25335   New Hampshire<br># of Illnesses25335\n",
      "31                 NJ      4843       New Jersey<br># of Illnesses4843\n",
      "32                 NM      9153       New Mexico<br># of Illnesses9153\n",
      "33                 NY     87648        New York<br># of Illnesses87648\n",
      "34                 NC     28821  North Carolina<br># of Illnesses28821\n",
      "35                 ND      8106     North Dakota<br># of Illnesses8106\n",
      "36                 OH     59671            Ohio<br># of Illnesses59671\n",
      "37                 OK      2500         Oklahoma<br># of Illnesses2500\n",
      "38                 OR     41924          Oregon<br># of Illnesses41924\n",
      "39                 PA     66464    Pennsylvania<br># of Illnesses66464\n",
      "40                 PR      1977      Puerto Rico<br># of Illnesses1977\n",
      "41  Republic of Palau         9   Republic of Palau<br># of Illnesses9\n",
      "42                 RI     12142    Rhode Island<br># of Illnesses12142\n",
      "43                 SC     29045  South Carolina<br># of Illnesses29045\n",
      "44                 SD      1042     South Dakota<br># of Illnesses1042\n",
      "45                 TN     20342       Tennessee<br># of Illnesses20342\n",
      "46                 TX     26235           Texas<br># of Illnesses26235\n",
      "47                 UT      7603             Utah<br># of Illnesses7603\n",
      "48                 VT      3554          Vermont<br># of Illnesses3554\n",
      "49                 VA     67620        Virginia<br># of Illnesses67620\n",
      "50                 WA     13115      Washington<br># of Illnesses13115\n",
      "51      Washington DC      2922    Washington DC<br># of Illnesses2922\n",
      "52                 WV     17112   West Virginia<br># of Illnesses17112\n",
      "53                 WI     71267       Wisconsin<br># of Illnesses71267\n",
      "54                 WY      6440          Wyoming<br># of Illnesses6440\n"
     ]
    }
   ],
   "source": [
    "#abbrev_us_state = dict(map(reversed,us_state_abbrev.items())\n",
    "df3 = df3.replace({'State': us_state_abbrev})\n",
    "print(df3)"
   ]
  },
  {
   "cell_type": "code",
   "execution_count": 26,
   "metadata": {},
   "outputs": [],
   "source": [
    "import geopandas as gpd\n",
    "from shapely.geometry import Point, Polygon\n",
    "import matplotlib.pyplot as plt\n",
    "import pandas as pd\n",
    "%matplotlib inline"
   ]
  },
  {
   "cell_type": "code",
   "execution_count": 27,
   "metadata": {},
   "outputs": [
    {
     "data": {
      "application/vnd.plotly.v1+json": {
       "config": {
        "plotlyServerURL": "https://plot.ly"
       },
       "data": [
        {
         "autocolorscale": false,
         "colorbar": {
          "title": {
           "text": "Illness Count"
          }
         },
         "colorscale": [
          [
           0,
           "rgb(255,245,240)"
          ],
          [
           0.125,
           "rgb(254,224,210)"
          ],
          [
           0.25,
           "rgb(252,187,161)"
          ],
          [
           0.375,
           "rgb(252,146,114)"
          ],
          [
           0.5,
           "rgb(251,106,74)"
          ],
          [
           0.625,
           "rgb(239,59,44)"
          ],
          [
           0.75,
           "rgb(203,24,29)"
          ],
          [
           0.875,
           "rgb(165,15,21)"
          ],
          [
           1,
           "rgb(103,0,13)"
          ]
         ],
         "locationmode": "USA-states",
         "locations": [
          "AL",
          "AK",
          "AZ",
          "AR",
          "CA",
          "CO",
          "CT",
          "DE",
          "FL",
          "GA",
          "Guam",
          "HI",
          "ID",
          "IL",
          "IN",
          "IA",
          "KS",
          "KY",
          "LA",
          "ME",
          "MD",
          "MA",
          "MI",
          "MN",
          "MS",
          "MO",
          "MT",
          "Multistate",
          "NE",
          "NV",
          "NH",
          "NJ",
          "NM",
          "NY",
          "NC",
          "ND",
          "OH",
          "OK",
          "OR",
          "PA",
          "PR",
          "Republic of Palau",
          "RI",
          "SC",
          "SD",
          "TN",
          "TX",
          "UT",
          "VT",
          "VA",
          "WA",
          "Washington DC",
          "WV",
          "WI",
          "WY"
         ],
         "marker": {
          "line": {
           "color": "white"
          }
         },
         "type": "choropleth",
         "z": [
          5962,
          5107,
          22764,
          4456,
          43241,
          23044,
          15622,
          2093,
          26194,
          14745,
          196,
          6211,
          2273,
          58642,
          12780,
          13157,
          10837,
          19298,
          7486,
          23240,
          11392,
          41989,
          55730,
          44103,
          5041,
          17819,
          6824,
          33513,
          7829,
          21502,
          25335,
          4843,
          9153,
          87648,
          28821,
          8106,
          59671,
          2500,
          41924,
          66464,
          1977,
          9,
          12142,
          29045,
          1042,
          20342,
          26235,
          7603,
          3554,
          67620,
          13115,
          2922,
          17112,
          71267,
          6440
         ]
        }
       ],
       "layout": {
        "geo": {
         "lakecolor": "rgb(255, 255, 255)",
         "projection": {
          "type": "albers usa"
         },
         "scope": "usa",
         "showlakes": true
        },
        "template": {
         "data": {
          "bar": [
           {
            "error_x": {
             "color": "#2a3f5f"
            },
            "error_y": {
             "color": "#2a3f5f"
            },
            "marker": {
             "line": {
              "color": "#E5ECF6",
              "width": 0.5
             }
            },
            "type": "bar"
           }
          ],
          "barpolar": [
           {
            "marker": {
             "line": {
              "color": "#E5ECF6",
              "width": 0.5
             }
            },
            "type": "barpolar"
           }
          ],
          "carpet": [
           {
            "aaxis": {
             "endlinecolor": "#2a3f5f",
             "gridcolor": "white",
             "linecolor": "white",
             "minorgridcolor": "white",
             "startlinecolor": "#2a3f5f"
            },
            "baxis": {
             "endlinecolor": "#2a3f5f",
             "gridcolor": "white",
             "linecolor": "white",
             "minorgridcolor": "white",
             "startlinecolor": "#2a3f5f"
            },
            "type": "carpet"
           }
          ],
          "choropleth": [
           {
            "colorbar": {
             "outlinewidth": 0,
             "ticks": ""
            },
            "type": "choropleth"
           }
          ],
          "contour": [
           {
            "colorbar": {
             "outlinewidth": 0,
             "ticks": ""
            },
            "colorscale": [
             [
              0,
              "#0d0887"
             ],
             [
              0.1111111111111111,
              "#46039f"
             ],
             [
              0.2222222222222222,
              "#7201a8"
             ],
             [
              0.3333333333333333,
              "#9c179e"
             ],
             [
              0.4444444444444444,
              "#bd3786"
             ],
             [
              0.5555555555555556,
              "#d8576b"
             ],
             [
              0.6666666666666666,
              "#ed7953"
             ],
             [
              0.7777777777777778,
              "#fb9f3a"
             ],
             [
              0.8888888888888888,
              "#fdca26"
             ],
             [
              1,
              "#f0f921"
             ]
            ],
            "type": "contour"
           }
          ],
          "contourcarpet": [
           {
            "colorbar": {
             "outlinewidth": 0,
             "ticks": ""
            },
            "type": "contourcarpet"
           }
          ],
          "heatmap": [
           {
            "colorbar": {
             "outlinewidth": 0,
             "ticks": ""
            },
            "colorscale": [
             [
              0,
              "#0d0887"
             ],
             [
              0.1111111111111111,
              "#46039f"
             ],
             [
              0.2222222222222222,
              "#7201a8"
             ],
             [
              0.3333333333333333,
              "#9c179e"
             ],
             [
              0.4444444444444444,
              "#bd3786"
             ],
             [
              0.5555555555555556,
              "#d8576b"
             ],
             [
              0.6666666666666666,
              "#ed7953"
             ],
             [
              0.7777777777777778,
              "#fb9f3a"
             ],
             [
              0.8888888888888888,
              "#fdca26"
             ],
             [
              1,
              "#f0f921"
             ]
            ],
            "type": "heatmap"
           }
          ],
          "heatmapgl": [
           {
            "colorbar": {
             "outlinewidth": 0,
             "ticks": ""
            },
            "colorscale": [
             [
              0,
              "#0d0887"
             ],
             [
              0.1111111111111111,
              "#46039f"
             ],
             [
              0.2222222222222222,
              "#7201a8"
             ],
             [
              0.3333333333333333,
              "#9c179e"
             ],
             [
              0.4444444444444444,
              "#bd3786"
             ],
             [
              0.5555555555555556,
              "#d8576b"
             ],
             [
              0.6666666666666666,
              "#ed7953"
             ],
             [
              0.7777777777777778,
              "#fb9f3a"
             ],
             [
              0.8888888888888888,
              "#fdca26"
             ],
             [
              1,
              "#f0f921"
             ]
            ],
            "type": "heatmapgl"
           }
          ],
          "histogram": [
           {
            "marker": {
             "colorbar": {
              "outlinewidth": 0,
              "ticks": ""
             }
            },
            "type": "histogram"
           }
          ],
          "histogram2d": [
           {
            "colorbar": {
             "outlinewidth": 0,
             "ticks": ""
            },
            "colorscale": [
             [
              0,
              "#0d0887"
             ],
             [
              0.1111111111111111,
              "#46039f"
             ],
             [
              0.2222222222222222,
              "#7201a8"
             ],
             [
              0.3333333333333333,
              "#9c179e"
             ],
             [
              0.4444444444444444,
              "#bd3786"
             ],
             [
              0.5555555555555556,
              "#d8576b"
             ],
             [
              0.6666666666666666,
              "#ed7953"
             ],
             [
              0.7777777777777778,
              "#fb9f3a"
             ],
             [
              0.8888888888888888,
              "#fdca26"
             ],
             [
              1,
              "#f0f921"
             ]
            ],
            "type": "histogram2d"
           }
          ],
          "histogram2dcontour": [
           {
            "colorbar": {
             "outlinewidth": 0,
             "ticks": ""
            },
            "colorscale": [
             [
              0,
              "#0d0887"
             ],
             [
              0.1111111111111111,
              "#46039f"
             ],
             [
              0.2222222222222222,
              "#7201a8"
             ],
             [
              0.3333333333333333,
              "#9c179e"
             ],
             [
              0.4444444444444444,
              "#bd3786"
             ],
             [
              0.5555555555555556,
              "#d8576b"
             ],
             [
              0.6666666666666666,
              "#ed7953"
             ],
             [
              0.7777777777777778,
              "#fb9f3a"
             ],
             [
              0.8888888888888888,
              "#fdca26"
             ],
             [
              1,
              "#f0f921"
             ]
            ],
            "type": "histogram2dcontour"
           }
          ],
          "mesh3d": [
           {
            "colorbar": {
             "outlinewidth": 0,
             "ticks": ""
            },
            "type": "mesh3d"
           }
          ],
          "parcoords": [
           {
            "line": {
             "colorbar": {
              "outlinewidth": 0,
              "ticks": ""
             }
            },
            "type": "parcoords"
           }
          ],
          "pie": [
           {
            "automargin": true,
            "type": "pie"
           }
          ],
          "scatter": [
           {
            "marker": {
             "colorbar": {
              "outlinewidth": 0,
              "ticks": ""
             }
            },
            "type": "scatter"
           }
          ],
          "scatter3d": [
           {
            "line": {
             "colorbar": {
              "outlinewidth": 0,
              "ticks": ""
             }
            },
            "marker": {
             "colorbar": {
              "outlinewidth": 0,
              "ticks": ""
             }
            },
            "type": "scatter3d"
           }
          ],
          "scattercarpet": [
           {
            "marker": {
             "colorbar": {
              "outlinewidth": 0,
              "ticks": ""
             }
            },
            "type": "scattercarpet"
           }
          ],
          "scattergeo": [
           {
            "marker": {
             "colorbar": {
              "outlinewidth": 0,
              "ticks": ""
             }
            },
            "type": "scattergeo"
           }
          ],
          "scattergl": [
           {
            "marker": {
             "colorbar": {
              "outlinewidth": 0,
              "ticks": ""
             }
            },
            "type": "scattergl"
           }
          ],
          "scattermapbox": [
           {
            "marker": {
             "colorbar": {
              "outlinewidth": 0,
              "ticks": ""
             }
            },
            "type": "scattermapbox"
           }
          ],
          "scatterpolar": [
           {
            "marker": {
             "colorbar": {
              "outlinewidth": 0,
              "ticks": ""
             }
            },
            "type": "scatterpolar"
           }
          ],
          "scatterpolargl": [
           {
            "marker": {
             "colorbar": {
              "outlinewidth": 0,
              "ticks": ""
             }
            },
            "type": "scatterpolargl"
           }
          ],
          "scatterternary": [
           {
            "marker": {
             "colorbar": {
              "outlinewidth": 0,
              "ticks": ""
             }
            },
            "type": "scatterternary"
           }
          ],
          "surface": [
           {
            "colorbar": {
             "outlinewidth": 0,
             "ticks": ""
            },
            "colorscale": [
             [
              0,
              "#0d0887"
             ],
             [
              0.1111111111111111,
              "#46039f"
             ],
             [
              0.2222222222222222,
              "#7201a8"
             ],
             [
              0.3333333333333333,
              "#9c179e"
             ],
             [
              0.4444444444444444,
              "#bd3786"
             ],
             [
              0.5555555555555556,
              "#d8576b"
             ],
             [
              0.6666666666666666,
              "#ed7953"
             ],
             [
              0.7777777777777778,
              "#fb9f3a"
             ],
             [
              0.8888888888888888,
              "#fdca26"
             ],
             [
              1,
              "#f0f921"
             ]
            ],
            "type": "surface"
           }
          ],
          "table": [
           {
            "cells": {
             "fill": {
              "color": "#EBF0F8"
             },
             "line": {
              "color": "white"
             }
            },
            "header": {
             "fill": {
              "color": "#C8D4E3"
             },
             "line": {
              "color": "white"
             }
            },
            "type": "table"
           }
          ]
         },
         "layout": {
          "annotationdefaults": {
           "arrowcolor": "#2a3f5f",
           "arrowhead": 0,
           "arrowwidth": 1
          },
          "coloraxis": {
           "colorbar": {
            "outlinewidth": 0,
            "ticks": ""
           }
          },
          "colorscale": {
           "diverging": [
            [
             0,
             "#8e0152"
            ],
            [
             0.1,
             "#c51b7d"
            ],
            [
             0.2,
             "#de77ae"
            ],
            [
             0.3,
             "#f1b6da"
            ],
            [
             0.4,
             "#fde0ef"
            ],
            [
             0.5,
             "#f7f7f7"
            ],
            [
             0.6,
             "#e6f5d0"
            ],
            [
             0.7,
             "#b8e186"
            ],
            [
             0.8,
             "#7fbc41"
            ],
            [
             0.9,
             "#4d9221"
            ],
            [
             1,
             "#276419"
            ]
           ],
           "sequential": [
            [
             0,
             "#0d0887"
            ],
            [
             0.1111111111111111,
             "#46039f"
            ],
            [
             0.2222222222222222,
             "#7201a8"
            ],
            [
             0.3333333333333333,
             "#9c179e"
            ],
            [
             0.4444444444444444,
             "#bd3786"
            ],
            [
             0.5555555555555556,
             "#d8576b"
            ],
            [
             0.6666666666666666,
             "#ed7953"
            ],
            [
             0.7777777777777778,
             "#fb9f3a"
            ],
            [
             0.8888888888888888,
             "#fdca26"
            ],
            [
             1,
             "#f0f921"
            ]
           ],
           "sequentialminus": [
            [
             0,
             "#0d0887"
            ],
            [
             0.1111111111111111,
             "#46039f"
            ],
            [
             0.2222222222222222,
             "#7201a8"
            ],
            [
             0.3333333333333333,
             "#9c179e"
            ],
            [
             0.4444444444444444,
             "#bd3786"
            ],
            [
             0.5555555555555556,
             "#d8576b"
            ],
            [
             0.6666666666666666,
             "#ed7953"
            ],
            [
             0.7777777777777778,
             "#fb9f3a"
            ],
            [
             0.8888888888888888,
             "#fdca26"
            ],
            [
             1,
             "#f0f921"
            ]
           ]
          },
          "colorway": [
           "#636efa",
           "#EF553B",
           "#00cc96",
           "#ab63fa",
           "#FFA15A",
           "#19d3f3",
           "#FF6692",
           "#B6E880",
           "#FF97FF",
           "#FECB52"
          ],
          "font": {
           "color": "#2a3f5f"
          },
          "geo": {
           "bgcolor": "white",
           "lakecolor": "white",
           "landcolor": "#E5ECF6",
           "showlakes": true,
           "showland": true,
           "subunitcolor": "white"
          },
          "hoverlabel": {
           "align": "left"
          },
          "hovermode": "closest",
          "mapbox": {
           "style": "light"
          },
          "paper_bgcolor": "white",
          "plot_bgcolor": "#E5ECF6",
          "polar": {
           "angularaxis": {
            "gridcolor": "white",
            "linecolor": "white",
            "ticks": ""
           },
           "bgcolor": "#E5ECF6",
           "radialaxis": {
            "gridcolor": "white",
            "linecolor": "white",
            "ticks": ""
           }
          },
          "scene": {
           "xaxis": {
            "backgroundcolor": "#E5ECF6",
            "gridcolor": "white",
            "gridwidth": 2,
            "linecolor": "white",
            "showbackground": true,
            "ticks": "",
            "zerolinecolor": "white"
           },
           "yaxis": {
            "backgroundcolor": "#E5ECF6",
            "gridcolor": "white",
            "gridwidth": 2,
            "linecolor": "white",
            "showbackground": true,
            "ticks": "",
            "zerolinecolor": "white"
           },
           "zaxis": {
            "backgroundcolor": "#E5ECF6",
            "gridcolor": "white",
            "gridwidth": 2,
            "linecolor": "white",
            "showbackground": true,
            "ticks": "",
            "zerolinecolor": "white"
           }
          },
          "shapedefaults": {
           "line": {
            "color": "#2a3f5f"
           }
          },
          "ternary": {
           "aaxis": {
            "gridcolor": "white",
            "linecolor": "white",
            "ticks": ""
           },
           "baxis": {
            "gridcolor": "white",
            "linecolor": "white",
            "ticks": ""
           },
           "bgcolor": "#E5ECF6",
           "caxis": {
            "gridcolor": "white",
            "linecolor": "white",
            "ticks": ""
           }
          },
          "title": {
           "x": 0.05
          },
          "xaxis": {
           "automargin": true,
           "gridcolor": "white",
           "linecolor": "white",
           "ticks": "",
           "title": {
            "standoff": 15
           },
           "zerolinecolor": "white",
           "zerolinewidth": 2
          },
          "yaxis": {
           "automargin": true,
           "gridcolor": "white",
           "linecolor": "white",
           "ticks": "",
           "title": {
            "standoff": 15
           },
           "zerolinecolor": "white",
           "zerolinewidth": 2
          }
         }
        },
        "title": {
         "text": "Illness Outbreak in USA from 2009-2017"
        }
       }
      },
      "text/html": [
       "<div>\n",
       "        \n",
       "        \n",
       "            <div id=\"5c4b71d9-9a02-44ff-8fbf-d5fa47bb06c4\" class=\"plotly-graph-div\" style=\"height:525px; width:100%;\"></div>\n",
       "            <script type=\"text/javascript\">\n",
       "                require([\"plotly\"], function(Plotly) {\n",
       "                    window.PLOTLYENV=window.PLOTLYENV || {};\n",
       "                    \n",
       "                if (document.getElementById(\"5c4b71d9-9a02-44ff-8fbf-d5fa47bb06c4\")) {\n",
       "                    Plotly.newPlot(\n",
       "                        '5c4b71d9-9a02-44ff-8fbf-d5fa47bb06c4',\n",
       "                        [{\"autocolorscale\": false, \"colorbar\": {\"title\": {\"text\": \"Illness Count\"}}, \"colorscale\": [[0.0, \"rgb(255,245,240)\"], [0.125, \"rgb(254,224,210)\"], [0.25, \"rgb(252,187,161)\"], [0.375, \"rgb(252,146,114)\"], [0.5, \"rgb(251,106,74)\"], [0.625, \"rgb(239,59,44)\"], [0.75, \"rgb(203,24,29)\"], [0.875, \"rgb(165,15,21)\"], [1.0, \"rgb(103,0,13)\"]], \"locationmode\": \"USA-states\", \"locations\": [\"AL\", \"AK\", \"AZ\", \"AR\", \"CA\", \"CO\", \"CT\", \"DE\", \"FL\", \"GA\", \"Guam\", \"HI\", \"ID\", \"IL\", \"IN\", \"IA\", \"KS\", \"KY\", \"LA\", \"ME\", \"MD\", \"MA\", \"MI\", \"MN\", \"MS\", \"MO\", \"MT\", \"Multistate\", \"NE\", \"NV\", \"NH\", \"NJ\", \"NM\", \"NY\", \"NC\", \"ND\", \"OH\", \"OK\", \"OR\", \"PA\", \"PR\", \"Republic of Palau\", \"RI\", \"SC\", \"SD\", \"TN\", \"TX\", \"UT\", \"VT\", \"VA\", \"WA\", \"Washington DC\", \"WV\", \"WI\", \"WY\"], \"marker\": {\"line\": {\"color\": \"white\"}}, \"type\": \"choropleth\", \"z\": [5962.0, 5107.0, 22764.0, 4456.0, 43241.0, 23044.0, 15622.0, 2093.0, 26194.0, 14745.0, 196.0, 6211.0, 2273.0, 58642.0, 12780.0, 13157.0, 10837.0, 19298.0, 7486.0, 23240.0, 11392.0, 41989.0, 55730.0, 44103.0, 5041.0, 17819.0, 6824.0, 33513.0, 7829.0, 21502.0, 25335.0, 4843.0, 9153.0, 87648.0, 28821.0, 8106.0, 59671.0, 2500.0, 41924.0, 66464.0, 1977.0, 9.0, 12142.0, 29045.0, 1042.0, 20342.0, 26235.0, 7603.0, 3554.0, 67620.0, 13115.0, 2922.0, 17112.0, 71267.0, 6440.0]}],\n",
       "                        {\"geo\": {\"lakecolor\": \"rgb(255, 255, 255)\", \"projection\": {\"type\": \"albers usa\"}, \"scope\": \"usa\", \"showlakes\": true}, \"template\": {\"data\": {\"bar\": [{\"error_x\": {\"color\": \"#2a3f5f\"}, \"error_y\": {\"color\": \"#2a3f5f\"}, \"marker\": {\"line\": {\"color\": \"#E5ECF6\", \"width\": 0.5}}, \"type\": \"bar\"}], \"barpolar\": [{\"marker\": {\"line\": {\"color\": \"#E5ECF6\", \"width\": 0.5}}, \"type\": \"barpolar\"}], \"carpet\": [{\"aaxis\": {\"endlinecolor\": \"#2a3f5f\", \"gridcolor\": \"white\", \"linecolor\": \"white\", \"minorgridcolor\": \"white\", \"startlinecolor\": \"#2a3f5f\"}, \"baxis\": {\"endlinecolor\": \"#2a3f5f\", \"gridcolor\": \"white\", \"linecolor\": \"white\", \"minorgridcolor\": \"white\", \"startlinecolor\": \"#2a3f5f\"}, \"type\": \"carpet\"}], \"choropleth\": [{\"colorbar\": {\"outlinewidth\": 0, \"ticks\": \"\"}, \"type\": \"choropleth\"}], \"contour\": [{\"colorbar\": {\"outlinewidth\": 0, \"ticks\": \"\"}, \"colorscale\": [[0.0, \"#0d0887\"], [0.1111111111111111, \"#46039f\"], [0.2222222222222222, \"#7201a8\"], [0.3333333333333333, \"#9c179e\"], [0.4444444444444444, \"#bd3786\"], [0.5555555555555556, \"#d8576b\"], [0.6666666666666666, \"#ed7953\"], [0.7777777777777778, \"#fb9f3a\"], [0.8888888888888888, \"#fdca26\"], [1.0, \"#f0f921\"]], \"type\": \"contour\"}], \"contourcarpet\": [{\"colorbar\": {\"outlinewidth\": 0, \"ticks\": \"\"}, \"type\": \"contourcarpet\"}], \"heatmap\": [{\"colorbar\": {\"outlinewidth\": 0, \"ticks\": \"\"}, \"colorscale\": [[0.0, \"#0d0887\"], [0.1111111111111111, \"#46039f\"], [0.2222222222222222, \"#7201a8\"], [0.3333333333333333, \"#9c179e\"], [0.4444444444444444, \"#bd3786\"], [0.5555555555555556, \"#d8576b\"], [0.6666666666666666, \"#ed7953\"], [0.7777777777777778, \"#fb9f3a\"], [0.8888888888888888, \"#fdca26\"], [1.0, \"#f0f921\"]], \"type\": \"heatmap\"}], \"heatmapgl\": [{\"colorbar\": {\"outlinewidth\": 0, \"ticks\": \"\"}, \"colorscale\": [[0.0, \"#0d0887\"], [0.1111111111111111, \"#46039f\"], [0.2222222222222222, \"#7201a8\"], [0.3333333333333333, \"#9c179e\"], [0.4444444444444444, \"#bd3786\"], [0.5555555555555556, \"#d8576b\"], [0.6666666666666666, \"#ed7953\"], [0.7777777777777778, \"#fb9f3a\"], [0.8888888888888888, \"#fdca26\"], [1.0, \"#f0f921\"]], \"type\": \"heatmapgl\"}], \"histogram\": [{\"marker\": {\"colorbar\": {\"outlinewidth\": 0, \"ticks\": \"\"}}, \"type\": \"histogram\"}], \"histogram2d\": [{\"colorbar\": {\"outlinewidth\": 0, \"ticks\": \"\"}, \"colorscale\": [[0.0, \"#0d0887\"], [0.1111111111111111, \"#46039f\"], [0.2222222222222222, \"#7201a8\"], [0.3333333333333333, \"#9c179e\"], [0.4444444444444444, \"#bd3786\"], [0.5555555555555556, \"#d8576b\"], [0.6666666666666666, \"#ed7953\"], [0.7777777777777778, \"#fb9f3a\"], [0.8888888888888888, \"#fdca26\"], [1.0, \"#f0f921\"]], \"type\": \"histogram2d\"}], \"histogram2dcontour\": [{\"colorbar\": {\"outlinewidth\": 0, \"ticks\": \"\"}, \"colorscale\": [[0.0, \"#0d0887\"], [0.1111111111111111, \"#46039f\"], [0.2222222222222222, \"#7201a8\"], [0.3333333333333333, \"#9c179e\"], [0.4444444444444444, \"#bd3786\"], [0.5555555555555556, \"#d8576b\"], [0.6666666666666666, \"#ed7953\"], [0.7777777777777778, \"#fb9f3a\"], [0.8888888888888888, \"#fdca26\"], [1.0, \"#f0f921\"]], \"type\": \"histogram2dcontour\"}], \"mesh3d\": [{\"colorbar\": {\"outlinewidth\": 0, \"ticks\": \"\"}, \"type\": \"mesh3d\"}], \"parcoords\": [{\"line\": {\"colorbar\": {\"outlinewidth\": 0, \"ticks\": \"\"}}, \"type\": \"parcoords\"}], \"pie\": [{\"automargin\": true, \"type\": \"pie\"}], \"scatter\": [{\"marker\": {\"colorbar\": {\"outlinewidth\": 0, \"ticks\": \"\"}}, \"type\": \"scatter\"}], \"scatter3d\": [{\"line\": {\"colorbar\": {\"outlinewidth\": 0, \"ticks\": \"\"}}, \"marker\": {\"colorbar\": {\"outlinewidth\": 0, \"ticks\": \"\"}}, \"type\": \"scatter3d\"}], \"scattercarpet\": [{\"marker\": {\"colorbar\": {\"outlinewidth\": 0, \"ticks\": \"\"}}, \"type\": \"scattercarpet\"}], \"scattergeo\": [{\"marker\": {\"colorbar\": {\"outlinewidth\": 0, \"ticks\": \"\"}}, \"type\": \"scattergeo\"}], \"scattergl\": [{\"marker\": {\"colorbar\": {\"outlinewidth\": 0, \"ticks\": \"\"}}, \"type\": \"scattergl\"}], \"scattermapbox\": [{\"marker\": {\"colorbar\": {\"outlinewidth\": 0, \"ticks\": \"\"}}, \"type\": \"scattermapbox\"}], \"scatterpolar\": [{\"marker\": {\"colorbar\": {\"outlinewidth\": 0, \"ticks\": \"\"}}, \"type\": \"scatterpolar\"}], \"scatterpolargl\": [{\"marker\": {\"colorbar\": {\"outlinewidth\": 0, \"ticks\": \"\"}}, \"type\": \"scatterpolargl\"}], \"scatterternary\": [{\"marker\": {\"colorbar\": {\"outlinewidth\": 0, \"ticks\": \"\"}}, \"type\": \"scatterternary\"}], \"surface\": [{\"colorbar\": {\"outlinewidth\": 0, \"ticks\": \"\"}, \"colorscale\": [[0.0, \"#0d0887\"], [0.1111111111111111, \"#46039f\"], [0.2222222222222222, \"#7201a8\"], [0.3333333333333333, \"#9c179e\"], [0.4444444444444444, \"#bd3786\"], [0.5555555555555556, \"#d8576b\"], [0.6666666666666666, \"#ed7953\"], [0.7777777777777778, \"#fb9f3a\"], [0.8888888888888888, \"#fdca26\"], [1.0, \"#f0f921\"]], \"type\": \"surface\"}], \"table\": [{\"cells\": {\"fill\": {\"color\": \"#EBF0F8\"}, \"line\": {\"color\": \"white\"}}, \"header\": {\"fill\": {\"color\": \"#C8D4E3\"}, \"line\": {\"color\": \"white\"}}, \"type\": \"table\"}]}, \"layout\": {\"annotationdefaults\": {\"arrowcolor\": \"#2a3f5f\", \"arrowhead\": 0, \"arrowwidth\": 1}, \"coloraxis\": {\"colorbar\": {\"outlinewidth\": 0, \"ticks\": \"\"}}, \"colorscale\": {\"diverging\": [[0, \"#8e0152\"], [0.1, \"#c51b7d\"], [0.2, \"#de77ae\"], [0.3, \"#f1b6da\"], [0.4, \"#fde0ef\"], [0.5, \"#f7f7f7\"], [0.6, \"#e6f5d0\"], [0.7, \"#b8e186\"], [0.8, \"#7fbc41\"], [0.9, \"#4d9221\"], [1, \"#276419\"]], \"sequential\": [[0.0, \"#0d0887\"], [0.1111111111111111, \"#46039f\"], [0.2222222222222222, \"#7201a8\"], [0.3333333333333333, \"#9c179e\"], [0.4444444444444444, \"#bd3786\"], [0.5555555555555556, \"#d8576b\"], [0.6666666666666666, \"#ed7953\"], [0.7777777777777778, \"#fb9f3a\"], [0.8888888888888888, \"#fdca26\"], [1.0, \"#f0f921\"]], \"sequentialminus\": [[0.0, \"#0d0887\"], [0.1111111111111111, \"#46039f\"], [0.2222222222222222, \"#7201a8\"], [0.3333333333333333, \"#9c179e\"], [0.4444444444444444, \"#bd3786\"], [0.5555555555555556, \"#d8576b\"], [0.6666666666666666, \"#ed7953\"], [0.7777777777777778, \"#fb9f3a\"], [0.8888888888888888, \"#fdca26\"], [1.0, \"#f0f921\"]]}, \"colorway\": [\"#636efa\", \"#EF553B\", \"#00cc96\", \"#ab63fa\", \"#FFA15A\", \"#19d3f3\", \"#FF6692\", \"#B6E880\", \"#FF97FF\", \"#FECB52\"], \"font\": {\"color\": \"#2a3f5f\"}, \"geo\": {\"bgcolor\": \"white\", \"lakecolor\": \"white\", \"landcolor\": \"#E5ECF6\", \"showlakes\": true, \"showland\": true, \"subunitcolor\": \"white\"}, \"hoverlabel\": {\"align\": \"left\"}, \"hovermode\": \"closest\", \"mapbox\": {\"style\": \"light\"}, \"paper_bgcolor\": \"white\", \"plot_bgcolor\": \"#E5ECF6\", \"polar\": {\"angularaxis\": {\"gridcolor\": \"white\", \"linecolor\": \"white\", \"ticks\": \"\"}, \"bgcolor\": \"#E5ECF6\", \"radialaxis\": {\"gridcolor\": \"white\", \"linecolor\": \"white\", \"ticks\": \"\"}}, \"scene\": {\"xaxis\": {\"backgroundcolor\": \"#E5ECF6\", \"gridcolor\": \"white\", \"gridwidth\": 2, \"linecolor\": \"white\", \"showbackground\": true, \"ticks\": \"\", \"zerolinecolor\": \"white\"}, \"yaxis\": {\"backgroundcolor\": \"#E5ECF6\", \"gridcolor\": \"white\", \"gridwidth\": 2, \"linecolor\": \"white\", \"showbackground\": true, \"ticks\": \"\", \"zerolinecolor\": \"white\"}, \"zaxis\": {\"backgroundcolor\": \"#E5ECF6\", \"gridcolor\": \"white\", \"gridwidth\": 2, \"linecolor\": \"white\", \"showbackground\": true, \"ticks\": \"\", \"zerolinecolor\": \"white\"}}, \"shapedefaults\": {\"line\": {\"color\": \"#2a3f5f\"}}, \"ternary\": {\"aaxis\": {\"gridcolor\": \"white\", \"linecolor\": \"white\", \"ticks\": \"\"}, \"baxis\": {\"gridcolor\": \"white\", \"linecolor\": \"white\", \"ticks\": \"\"}, \"bgcolor\": \"#E5ECF6\", \"caxis\": {\"gridcolor\": \"white\", \"linecolor\": \"white\", \"ticks\": \"\"}}, \"title\": {\"x\": 0.05}, \"xaxis\": {\"automargin\": true, \"gridcolor\": \"white\", \"linecolor\": \"white\", \"ticks\": \"\", \"title\": {\"standoff\": 15}, \"zerolinecolor\": \"white\", \"zerolinewidth\": 2}, \"yaxis\": {\"automargin\": true, \"gridcolor\": \"white\", \"linecolor\": \"white\", \"ticks\": \"\", \"title\": {\"standoff\": 15}, \"zerolinecolor\": \"white\", \"zerolinewidth\": 2}}}, \"title\": {\"text\": \"Illness Outbreak in USA from 2009-2017\"}},\n",
       "                        {\"responsive\": true}\n",
       "                    ).then(function(){\n",
       "                            \n",
       "var gd = document.getElementById('5c4b71d9-9a02-44ff-8fbf-d5fa47bb06c4');\n",
       "var x = new MutationObserver(function (mutations, observer) {{\n",
       "        var display = window.getComputedStyle(gd).display;\n",
       "        if (!display || display === 'none') {{\n",
       "            console.log([gd, 'removed!']);\n",
       "            Plotly.purge(gd);\n",
       "            observer.disconnect();\n",
       "        }}\n",
       "}});\n",
       "\n",
       "// Listen for the removal of the full notebook cells\n",
       "var notebookContainer = gd.closest('#notebook-container');\n",
       "if (notebookContainer) {{\n",
       "    x.observe(notebookContainer, {childList: true});\n",
       "}}\n",
       "\n",
       "// Listen for the clearing of the current output cell\n",
       "var outputEl = gd.closest('.output');\n",
       "if (outputEl) {{\n",
       "    x.observe(outputEl, {childList: true});\n",
       "}}\n",
       "\n",
       "                        })\n",
       "                };\n",
       "                });\n",
       "            </script>\n",
       "        </div>"
      ]
     },
     "metadata": {},
     "output_type": "display_data"
    }
   ],
   "source": [
    "import plotly.graph_objects as go\n",
    "\n",
    "import pandas as pd\n",
    "df3 = df3\n",
    "\n",
    "for col in df3.columns:\n",
    "    df3[col] = df3[col].astype(str)\n",
    "\n",
    "df3['text'] = df3['State'] + '<br>' + \\\n",
    "   '# of Illnesses' + df3['Illnesses'] \n",
    "\n",
    "fig = go.Figure(data=go.Choropleth(\n",
    "    locations=df3['State'],\n",
    "    z=df3['Illnesses'].astype(float),\n",
    "    locationmode='USA-states',\n",
    "    colorscale='Reds',\n",
    "    autocolorscale=False,\n",
    "    #text=df['text'], # hover text\n",
    "    marker_line_color='white', # line markers between states\n",
    "    colorbar_title=\"Illness Count\"\n",
    "))\n",
    "\n",
    "fig.update_layout(\n",
    "    title_text='Illness Outbreak in USA from 2009-2017',\n",
    "    geo = dict(\n",
    "        scope='usa',\n",
    "        projection=go.layout.geo.Projection(type = 'albers usa'),\n",
    "        showlakes=True, # lakes\n",
    "        lakecolor='rgb(255, 255, 255)'),\n",
    ")\n",
    "\n",
    "fig.show()"
   ]
  },
  {
   "cell_type": "code",
   "execution_count": 28,
   "metadata": {},
   "outputs": [
    {
     "data": {
      "text/html": [
       "<div>\n",
       "<style scoped>\n",
       "    .dataframe tbody tr th:only-of-type {\n",
       "        vertical-align: middle;\n",
       "    }\n",
       "\n",
       "    .dataframe tbody tr th {\n",
       "        vertical-align: top;\n",
       "    }\n",
       "\n",
       "    .dataframe thead th {\n",
       "        text-align: right;\n",
       "    }\n",
       "</style>\n",
       "<table border=\"1\" class=\"dataframe\">\n",
       "  <thead>\n",
       "    <tr style=\"text-align: right;\">\n",
       "      <th></th>\n",
       "      <th>Year</th>\n",
       "      <th>Illnesses</th>\n",
       "    </tr>\n",
       "  </thead>\n",
       "  <tbody>\n",
       "    <tr>\n",
       "      <td>0</td>\n",
       "      <td>1998</td>\n",
       "      <td>27126</td>\n",
       "    </tr>\n",
       "    <tr>\n",
       "      <td>1</td>\n",
       "      <td>1999</td>\n",
       "      <td>24878</td>\n",
       "    </tr>\n",
       "    <tr>\n",
       "      <td>2</td>\n",
       "      <td>2000</td>\n",
       "      <td>25439</td>\n",
       "    </tr>\n",
       "    <tr>\n",
       "      <td>3</td>\n",
       "      <td>2001</td>\n",
       "      <td>25202</td>\n",
       "    </tr>\n",
       "    <tr>\n",
       "      <td>4</td>\n",
       "      <td>2002</td>\n",
       "      <td>24951</td>\n",
       "    </tr>\n",
       "    <tr>\n",
       "      <td>5</td>\n",
       "      <td>2003</td>\n",
       "      <td>23079</td>\n",
       "    </tr>\n",
       "    <tr>\n",
       "      <td>6</td>\n",
       "      <td>2004</td>\n",
       "      <td>29034</td>\n",
       "    </tr>\n",
       "    <tr>\n",
       "      <td>7</td>\n",
       "      <td>2005</td>\n",
       "      <td>19900</td>\n",
       "    </tr>\n",
       "    <tr>\n",
       "      <td>8</td>\n",
       "      <td>2006</td>\n",
       "      <td>28881</td>\n",
       "    </tr>\n",
       "    <tr>\n",
       "      <td>9</td>\n",
       "      <td>2007</td>\n",
       "      <td>21302</td>\n",
       "    </tr>\n",
       "    <tr>\n",
       "      <td>10</td>\n",
       "      <td>2008</td>\n",
       "      <td>23050</td>\n",
       "    </tr>\n",
       "    <tr>\n",
       "      <td>11</td>\n",
       "      <td>2009</td>\n",
       "      <td>63603</td>\n",
       "    </tr>\n",
       "    <tr>\n",
       "      <td>12</td>\n",
       "      <td>2010</td>\n",
       "      <td>92074</td>\n",
       "    </tr>\n",
       "    <tr>\n",
       "      <td>13</td>\n",
       "      <td>2011</td>\n",
       "      <td>93394</td>\n",
       "    </tr>\n",
       "    <tr>\n",
       "      <td>14</td>\n",
       "      <td>2012</td>\n",
       "      <td>119492</td>\n",
       "    </tr>\n",
       "    <tr>\n",
       "      <td>15</td>\n",
       "      <td>2013</td>\n",
       "      <td>107983</td>\n",
       "    </tr>\n",
       "    <tr>\n",
       "      <td>16</td>\n",
       "      <td>2014</td>\n",
       "      <td>107614</td>\n",
       "    </tr>\n",
       "    <tr>\n",
       "      <td>17</td>\n",
       "      <td>2015</td>\n",
       "      <td>108976</td>\n",
       "    </tr>\n",
       "    <tr>\n",
       "      <td>18</td>\n",
       "      <td>2016</td>\n",
       "      <td>109094</td>\n",
       "    </tr>\n",
       "    <tr>\n",
       "      <td>19</td>\n",
       "      <td>2017</td>\n",
       "      <td>102908</td>\n",
       "    </tr>\n",
       "  </tbody>\n",
       "</table>\n",
       "</div>"
      ],
      "text/plain": [
       "    Year  Illnesses\n",
       "0   1998      27126\n",
       "1   1999      24878\n",
       "2   2000      25439\n",
       "3   2001      25202\n",
       "4   2002      24951\n",
       "5   2003      23079\n",
       "6   2004      29034\n",
       "7   2005      19900\n",
       "8   2006      28881\n",
       "9   2007      21302\n",
       "10  2008      23050\n",
       "11  2009      63603\n",
       "12  2010      92074\n",
       "13  2011      93394\n",
       "14  2012     119492\n",
       "15  2013     107983\n",
       "16  2014     107614\n",
       "17  2015     108976\n",
       "18  2016     109094\n",
       "19  2017     102908"
      ]
     },
     "metadata": {},
     "output_type": "display_data"
    }
   ],
   "source": [
    "df4 = df.groupby(['Year'],as_index = False )['Illnesses'].sum()\n",
    "display(df4)"
   ]
  },
  {
   "cell_type": "code",
   "execution_count": 29,
   "metadata": {},
   "outputs": [
    {
     "data": {
      "text/plain": [
       "Text(0.5, 1.0, 'Number of Illnesses per year form 1998-2018')"
      ]
     },
     "execution_count": 29,
     "metadata": {},
     "output_type": "execute_result"
    },
    {
     "data": {
      "image/png": "[encoded data removed]",
      "text/plain": [
       "<Figure size 432x288 with 1 Axes>"
      ]
     },
     "metadata": {
      "needs_background": "light"
     },
     "output_type": "display_data"
    }
   ],
   "source": [
    "#x =plt.xticks(df4['Year'])\n",
    "#y = plt.yticks(df4['Illnesses'])\n",
    "#plt.xticks = ([1997,1999,2001,2003,2005,2007,2009,2013,2015,2017])\n",
    "#plt.ticklabel_format(style='plain',axis='x',useOffset=False)\n",
    "plt.plot(df4['Year'],df4['Illnesses'],'-o')\n",
    "plt.title('Number of Illnesses per year form 1998-2018')"
   ]
  },
  {
   "cell_type": "code",
   "execution_count": 30,
   "metadata": {},
   "outputs": [
    {
     "data": {
      "text/html": [
       "<div>\n",
       "<style scoped>\n",
       "    .dataframe tbody tr th:only-of-type {\n",
       "        vertical-align: middle;\n",
       "    }\n",
       "\n",
       "    .dataframe tbody tr th {\n",
       "        vertical-align: top;\n",
       "    }\n",
       "\n",
       "    .dataframe thead th {\n",
       "        text-align: right;\n",
       "    }\n",
       "</style>\n",
       "<table border=\"1\" class=\"dataframe\">\n",
       "  <thead>\n",
       "    <tr style=\"text-align: right;\">\n",
       "      <th></th>\n",
       "      <th>Month</th>\n",
       "      <th>Illnesses</th>\n",
       "    </tr>\n",
       "  </thead>\n",
       "  <tbody>\n",
       "    <tr>\n",
       "      <td>0</td>\n",
       "      <td>1</td>\n",
       "      <td>192435</td>\n",
       "    </tr>\n",
       "    <tr>\n",
       "      <td>1</td>\n",
       "      <td>2</td>\n",
       "      <td>181263</td>\n",
       "    </tr>\n",
       "    <tr>\n",
       "      <td>2</td>\n",
       "      <td>3</td>\n",
       "      <td>147611</td>\n",
       "    </tr>\n",
       "    <tr>\n",
       "      <td>3</td>\n",
       "      <td>4</td>\n",
       "      <td>101185</td>\n",
       "    </tr>\n",
       "    <tr>\n",
       "      <td>4</td>\n",
       "      <td>5</td>\n",
       "      <td>69290</td>\n",
       "    </tr>\n",
       "    <tr>\n",
       "      <td>5</td>\n",
       "      <td>6</td>\n",
       "      <td>54572</td>\n",
       "    </tr>\n",
       "    <tr>\n",
       "      <td>6</td>\n",
       "      <td>7</td>\n",
       "      <td>50152</td>\n",
       "    </tr>\n",
       "    <tr>\n",
       "      <td>7</td>\n",
       "      <td>8</td>\n",
       "      <td>43404</td>\n",
       "    </tr>\n",
       "    <tr>\n",
       "      <td>8</td>\n",
       "      <td>9</td>\n",
       "      <td>44037</td>\n",
       "    </tr>\n",
       "    <tr>\n",
       "      <td>9</td>\n",
       "      <td>10</td>\n",
       "      <td>56772</td>\n",
       "    </tr>\n",
       "    <tr>\n",
       "      <td>10</td>\n",
       "      <td>11</td>\n",
       "      <td>85947</td>\n",
       "    </tr>\n",
       "    <tr>\n",
       "      <td>11</td>\n",
       "      <td>12</td>\n",
       "      <td>151312</td>\n",
       "    </tr>\n",
       "  </tbody>\n",
       "</table>\n",
       "</div>"
      ],
      "text/plain": [
       "    Month  Illnesses\n",
       "0       1     192435\n",
       "1       2     181263\n",
       "2       3     147611\n",
       "3       4     101185\n",
       "4       5      69290\n",
       "5       6      54572\n",
       "6       7      50152\n",
       "7       8      43404\n",
       "8       9      44037\n",
       "9      10      56772\n",
       "10     11      85947\n",
       "11     12     151312"
      ]
     },
     "metadata": {},
     "output_type": "display_data"
    }
   ],
   "source": [
    "df5 = df.groupby(['Month'],as_index = False )['Illnesses'].sum()\n",
    "display(df5)"
   ]
  },
  {
   "cell_type": "code",
   "execution_count": 31,
   "metadata": {},
   "outputs": [],
   "source": [
    "monthDict={1:'Jan', 2:'Feb', 3:'Mar', 4:'Apr', 5:'May', 6:'Jun', 7:'Jul', 8:'Aug', 9:'Sep', 10:'Oct', 11:'Nov', 12:'Dec'}"
   ]
  },
  {
   "cell_type": "code",
   "execution_count": 32,
   "metadata": {},
   "outputs": [
    {
     "name": "stdout",
     "output_type": "stream",
     "text": [
      "   Month  Illnesses\n",
      "0    Jan     192435\n",
      "1    Feb     181263\n",
      "2    Mar     147611\n",
      "3    Apr     101185\n",
      "4    May      69290\n",
      "5    Jun      54572\n",
      "6    Jul      50152\n",
      "7    Aug      43404\n",
      "8    Sep      44037\n",
      "9    Oct      56772\n",
      "10   Nov      85947\n",
      "11   Dec     151312\n"
     ]
    }
   ],
   "source": [
    "df5 = df5.replace({'Month': monthDict})\n",
    "print(df5)"
   ]
  },
  {
   "cell_type": "code",
   "execution_count": 33,
   "metadata": {},
   "outputs": [
    {
     "data": {
      "image/png": "[encoded data removed]",
      "text/plain": [
       "<Figure size 1152x576 with 1 Axes>"
      ]
     },
     "metadata": {
      "needs_background": "light"
     },
     "output_type": "display_data"
    }
   ],
   "source": [
    "fig2, ax2 = plt.subplots(figsize=(16,8))\n",
    "ax2.bar(df5['Month'] , df5['Illnesses'])\n",
    "ax2.set_xlabel('Month')\n",
    "ax2.set_ylabel('# of Illnesses')\n",
    "plt.show()"
   ]
  }
 ],
 "metadata": {
  "kernelspec": {
   "display_name": "Python 3",
   "language": "python",
   "name": "python3"
  },
  "language_info": {
   "codemirror_mode": {
    "name": "ipython",
    "version": 3
   },
   "file_extension": ".py",
   "mimetype": "text/x-python",
   "name": "python",
   "nbconvert_exporter": "python",
   "pygments_lexer": "ipython3",
   "version": "3.7.4"
  }
 },
 "nbformat": 4,
 "nbformat_minor": 2
}
